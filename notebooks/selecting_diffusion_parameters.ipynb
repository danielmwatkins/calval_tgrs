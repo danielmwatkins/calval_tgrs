{
 "cells": [
  {
   "cell_type": "markdown",
   "id": "8a209fc6-74ae-4c03-8fa2-4c2dc81d9eb3",
   "metadata": {},
   "source": [
    "The nonlinear diffusion algorithm takes three parameters: $\\lambda, \\kappa$, and the number of iterations.\n"
   ]
  },
  {
   "cell_type": "code",
   "execution_count": 15,
   "id": "59324ade-f9d7-4e40-aca6-47a2774afe30",
   "metadata": {},
   "outputs": [
    {
     "name": "stderr",
     "output_type": "stream",
     "text": [
      "\u001b[32m\u001b[1m  Activating\u001b[22m\u001b[39m project at `~/Documents/research/calval_tgrs/notebooks/calval`\n",
      "\u001b[32m\u001b[1m  No Changes\u001b[22m\u001b[39m to `~/Documents/research/calval_tgrs/notebooks/calval/Project.toml`\n",
      "\u001b[32m\u001b[1m  No Changes\u001b[22m\u001b[39m to `~/Documents/research/calval_tgrs/notebooks/calval/Manifest.toml`\n",
      "WARNING: redefinition of constant Main.SUPPORTED_GRADIENT_FUNCTIONS. This may fail, cause incorrect answers, or produce other errors.\n"
     ]
    },
    {
     "data": {
      "text/plain": [
       "anisotropic_diffusion_2D (generic function with 1 method)"
      ]
     },
     "execution_count": 15,
     "metadata": {},
     "output_type": "execute_result"
    }
   ],
   "source": [
    "using Pkg\n",
    "Pkg.activate(\"calval\")\n",
    "Pkg.resolve()\n",
    "using IceFloeTracker\n",
    "using IceFloeTracker: strel_diamond\n",
    "using Images\n",
    "using Images: test_approx_eq_sigma_eps\n",
    "include(\"../scripts/dev/nonlinear_diffusion.jl\")"
   ]
  },
  {
   "cell_type": "code",
   "execution_count": 47,
   "id": "80c95a0e-dc8a-40d6-bced-39231bcde001",
   "metadata": {},
   "outputs": [],
   "source": [
    "struct_elem2 = strel_diamond((5, 5)) #original matlab structuring element -  a disk-shaped kernel with radius of 2 px\n",
    "test_region = (1:2707, 1:4458)\n",
    "test_data_dir = \"/Users/dmw/Documents/research/IceFloeTracker.jl/test\"\n",
    "matlab_normalized_img_file = \"$(test_data_dir)/test_inputs/matlab_normalized.png\"\n",
    "matlab_sharpened_file = \"$(test_data_dir)/test_inputs/matlab_sharpened.png\"\n",
    "matlab_diffused_file = \"$(test_data_dir)/test_inputs/matlab_diffused.png\"\n",
    "matlab_equalized_file = \"$(test_data_dir)/test_inputs/matlab_equalized.png\"\n",
    "landmask_bitmatrix = convert(BitMatrix, float64.(load(\"$(test_data_dir)/test_inputs/current_landmask.png\")))\n",
    "landmask_no_dilate = convert(BitMatrix, float64.(load(\"$(test_data_dir)/test_inputs/landmask_no_dilate.png\")))\n",
    "input_image = float64.(load(\"$(test_data_dir)/test_inputs/beaufort-chukchi-seas_truecolor.2020162.aqua.250m.tiff\")[test_region...])\n",
    "matlab_norm_image = float64.(load(matlab_normalized_img_file)[test_region...])\n",
    "matlab_sharpened = float64.(load(matlab_sharpened_file))\n",
    "matlab_diffused = float64.(load(matlab_diffused_file)[test_region...])\n",
    "matlab_equalized = float64.(load(matlab_equalized_file))\n",
    "nothing"
   ]
  },
  {
   "cell_type": "code",
   "execution_count": 38,
   "id": "4f6a374c-3735-40d3-9ccd-65dd02c15ddc",
   "metadata": {},
   "outputs": [],
   "source": [
    "n_iters = 3\n",
    "kappa = 0.1\n",
    "lambda = 0.1\n",
    "\n",
    "julia_input_landmasked = IceFloeTracker.apply_landmask(input_image, landmask_no_dilate);"
   ]
  },
  {
   "cell_type": "code",
   "execution_count": 44,
   "id": "04bd6765-fefc-4069-9b3c-2867b1b5e6b3",
   "metadata": {},
   "outputs": [
    {
     "name": "stdout",
     "output_type": "stream",
     "text": [
      "1 0.004649233581938792\n",
      "2 0.004297235115938635\n",
      "3 0.004029358776186884\n",
      "4 0.003850935844348241\n",
      "5 0.0037702901392723874\n",
      "6 0.003778670850896731\n",
      "7 0.0038525085008467236\n",
      "8 0.003968538167231018\n",
      "9 0.004109797329568576\n",
      "10 0.004265346587725617\n"
     ]
    }
   ],
   "source": [
    "# The default function type is \"exponential\"\n",
    "# The default number of iterations in the matlab code is 5.\n",
    "lambda = 0.1\n",
    "kappa = 0.1\n",
    "julia_diffused = deepcopy(julia_input_landmasked)\n",
    "for n_iters in [1, 2, 3, 4, 5, 6, 7, 8, 9, 10]\n",
    "    julia_diffused .= nonlinear_diffusion(deepcopy(julia_input_landmasked), PeronaMalikDiffusion(lambda, kappa, n_iters, \"exponential\"))\n",
    "    print(n_iters, \" \", test_approx_eq_sigma_eps(julia_diffused, matlab_diffused, ones(2), 0.01, true), \"\\n\")\n",
    "end"
   ]
  },
  {
   "cell_type": "code",
   "execution_count": 45,
   "id": "aa60d800-bafa-4474-a94e-85341e479c2e",
   "metadata": {},
   "outputs": [
    {
     "name": "stdout",
     "output_type": "stream",
     "text": [
      "0.05 0.00395704836316505\n",
      "0.1 0.0037702901392723874\n",
      "0.15 0.003853526312136462\n",
      "0.25 0.004055243056540083\n"
     ]
    }
   ],
   "source": [
    "# The default value for the gradient scaling is estimated from the image histogram.\n",
    "n_iters = 5\n",
    "for kappa in [0.05, 0.1, 0.15, 0.25]\n",
    "    julia_diffused .= nonlinear_diffusion(deepcopy(julia_input_landmasked), PeronaMalikDiffusion(lambda, kappa, n_iters, \"exponential\"))\n",
    "    print(kappa, \" \", test_approx_eq_sigma_eps(julia_diffused, matlab_diffused, ones(2), 0.01, true), \"\\n\")\n",
    "end"
   ]
  },
  {
   "cell_type": "code",
   "execution_count": 46,
   "id": "fcabd95f-1d47-4981-b356-7659a5cef957",
   "metadata": {},
   "outputs": [
    {
     "name": "stdout",
     "output_type": "stream",
     "text": [
      "0.05 0.00403681636764216\n",
      "0.1 0.0037702901392723874\n",
      "0.15 0.0038595395485302698\n",
      "0.25 0.004485201576206776\n"
     ]
    }
   ],
   "source": [
    "n_iters = 5\n",
    "kappa = 0.1\n",
    "for lambda in [0.05, 0.1, 0.15, 0.25]\n",
    "    julia_diffused .= nonlinear_diffusion(deepcopy(julia_input_landmasked), PeronaMalikDiffusion(lambda, kappa, n_iters, \"exponential\"))\n",
    "    print(lambda, \" \", test_approx_eq_sigma_eps(julia_diffused, matlab_diffused, ones(2), 0.01, true), \"\\n\")\n",
    "end"
   ]
  }
 ],
 "metadata": {
  "kernelspec": {
   "display_name": "Julia 1.11.7",
   "language": "julia",
   "name": "julia-1.11"
  },
  "language_info": {
   "file_extension": ".jl",
   "mimetype": "application/julia",
   "name": "julia",
   "version": "1.11.7"
  }
 },
 "nbformat": 4,
 "nbformat_minor": 5
}
