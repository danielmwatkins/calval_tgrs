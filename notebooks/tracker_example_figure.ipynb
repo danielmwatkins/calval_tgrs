{
 "cells": [
  {
   "cell_type": "code",
   "execution_count": 5,
   "id": "3fc43201-8296-4dcd-a2e9-b769ece40673",
   "metadata": {},
   "outputs": [
    {
     "name": "stderr",
     "output_type": "stream",
     "text": [
      "\u001b[32m\u001b[1m  Activating\u001b[22m\u001b[39m project at `~/Documents/research/manuscripts/cal-val_ice_floe_tracker/calval_tgrs/scripts/cal-val`\n"
     ]
    }
   ],
   "source": [
    "using Pkg\n",
    "Pkg.activate(\"../scripts/cal-val/\")\n",
    "using CairoMakie\n",
    "using IceFloeTracker\n",
    "using DataFrames\n",
    "using Images\n",
    "using CSV"
   ]
  },
  {
   "cell_type": "markdown",
   "id": "e6cba3a9-6117-41b0-b8bc-7765c9e5a70b",
   "metadata": {},
   "source": [
    "Goal: Figure showing the steps of the tracker.\n",
    "1. Pair of images\n",
    "2. Selection with distance threshold\n",
    "3. "
   ]
  },
  {
   "cell_type": "code",
   "execution_count": 6,
   "id": "9ba1b39f-2d1a-4283-a97c-fe7f8e030e24",
   "metadata": {},
   "outputs": [
    {
     "data": {
      "text/plain": [
       "(search_thresholds = (dt = (30.0, 100.0, 1300.0), dist = (200, 250, 300)), small_floe_settings = (minimumarea = 100, arearatio = 0.18, majaxisratio = 0.1, minaxisratio = 0.15, convexarearatio = 0.2), large_floe_settings = (minimumarea = 1200, arearatio = 0.28, majaxisratio = 0.1, minaxisratio = 0.12, convexarearatio = 0.14))"
      ]
     },
     "execution_count": 6,
     "metadata": {},
     "output_type": "execute_result"
    }
   ],
   "source": [
    "# Set thresholds from file\n",
    "mc_thresholds = IceFloeTracker.mc_thresholds\n",
    "\n",
    "# Alternatively load the defaults:\n",
    "# condition_thresholds = IceFloeTracker.condition_thresholds\n",
    "ct = (search_thresholds = \n",
    "        (dt = (30.0, 100.0, 1300.0),\n",
    "         dist = (200, 250, 300)),\n",
    "      small_floe_settings = (minimumarea = 100,\n",
    "                             arearatio = 0.18,\n",
    "                             majaxisratio = 0.1,\n",
    "                             minaxisratio = 0.15,\n",
    "                             convexarearatio = 0.2),\n",
    "      large_floe_settings = (minimumarea = 1200,\n",
    "                             arearatio = 0.28,\n",
    "                             majaxisratio = 0.1,\n",
    "                             minaxisratio = 0.12,\n",
    "                             convexarearatio = 0.14))"
   ]
  },
  {
   "cell_type": "code",
   "execution_count": 11,
   "id": "12776cda-b203-42f7-9581-568c25b3410d",
   "metadata": {},
   "outputs": [
    {
     "data": {
      "text/plain": [
       "0.403"
      ]
     },
     "execution_count": 11,
     "metadata": {},
     "output_type": "execute_result"
    }
   ],
   "source": [
    "∆t = 1\n",
    "0.403 + 0.988 * log10(∆t) − 0.05 * (log10(∆t))^2"
   ]
  },
  {
   "cell_type": "code",
   "execution_count": 12,
   "id": "83ccdd2d-b462-4706-990f-44c75209900a",
   "metadata": {},
   "outputs": [
    {
     "data": {
      "text/plain": [
       "0.7476485566463654"
      ]
     },
     "execution_count": 12,
     "metadata": {},
     "output_type": "execute_result"
    }
   ],
   "source": [
    "10^0.43 * 1000 / (60 * 60)"
   ]
  },
  {
   "cell_type": "code",
   "execution_count": null,
   "id": "a8d140cc-5898-425b-a2d4-e81b401274a8",
   "metadata": {},
   "outputs": [],
   "source": []
  }
 ],
 "metadata": {
  "kernelspec": {
   "display_name": "Julia 1.11.6",
   "language": "julia",
   "name": "julia-1.11"
  },
  "language_info": {
   "file_extension": ".jl",
   "mimetype": "application/julia",
   "name": "julia",
   "version": "1.11.6"
  }
 },
 "nbformat": 4,
 "nbformat_minor": 5
}
