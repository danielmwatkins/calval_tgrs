{
 "cells": [
  {
   "cell_type": "code",
   "execution_count": 6,
   "id": "4321309c-a7ef-434d-b566-004ec6aba12d",
   "metadata": {},
   "outputs": [
    {
     "name": "stderr",
     "output_type": "stream",
     "text": [
      "\u001b[32m\u001b[1m  Activating\u001b[22m\u001b[39m project at `~/Documents/research/manuscripts/cal-val_ice_floe_tracker/calval_tgrs/scripts/calval`\n"
     ]
    }
   ],
   "source": [
    "using Pkg\n",
    "Pkg.activate(\"../scripts/calval\")\n",
    "\n",
    "using IceFloeTracker\n",
    "using Plots\n",
    "using Images\n",
    "using Interpolations\n",
    "\n",
    "greaterthan05(x) = x .> 0.5 # used for the image resize step and for binarizing images\n",
    "imrotate_bin_nocrop(x, r) = greaterthan05(collect(imrotate(x, deg2rad(r), method=BSpline(Constant()))))\n",
    "\n",
    "# Load the images from file\n",
    "test_images_loc = \"../data/test_images_tracker_setup/\"\n",
    "       \n",
    "# Add labels and get region properties\n",
    "# labeled_image = label_components(image);\n",
    "# props = regionprops_table(labeled_image);\n",
    "props = []\n",
    "labeled_images = []\n",
    "for fname in [\"001-baffin_bay-20220911-aqua-labeled_floes.png\",\n",
    "              \"021_baffin_bay_20120422_aqua_labeled_floes_v1.png\",\n",
    "              \"022-barents_kara_seas-20060909-aqua-labeled_floes.png\"]\n",
    "    image = load(joinpath(test_images_loc, fname))\n",
    "        \n",
    "    # Add labels and get region properties\n",
    "    labeled_image = label_components(image)\n",
    "    push!(labeled_images, labeled_image)\n",
    "    props_table = regionprops_table(labeled_image)\n",
    "    IceFloeTracker.addfloemasks!(props_table, greaterthan05.(labeled_image))\n",
    "    push!(props, props_table)        \n",
    "    # append!(props, IceFloeTracker.addfloemasks!(props_table, greaterthan0.(labeled_image)))\n",
    "end\n",
    "all_props = reduce(vcat, props)\n",
    "# gotta be a better way to do this -- can't tell why \n",
    "# addψs!(props) wouldn't work but this next line does\n",
    "IceFloeTracker.addψs!([all_props]);"
   ]
  },
  {
   "cell_type": "code",
   "execution_count": 37,
   "id": "ec0b3eb8-4977-431b-aa5a-f59f636806ed",
   "metadata": {},
   "outputs": [],
   "source": [
    "floe_id = 2\n",
    "init_floe = all_props[floe_id, :mask]\n",
    "for rotation in [-27.894736842105267]\n",
    "    rotated_floe = imrotate_bin_nocrop(init_floe, rotation)\n",
    "    rotated_props = regionprops_table(label_components(rotated_floe))\n",
    "    IceFloeTracker.addfloemasks!(rotated_props, rotated_floe) # needed for psi s\n",
    "    # add filter to drop the length-1 floe.\n",
    "    \n",
    "    rotated_props = rotated_props[rotated_props.area .> 1, :]\n",
    "    IceFloeTracker.addψs!([rotated_props])\n",
    "    pcorr = IceFloeTracker.corr(all_props[floe_id, \"psi\"], rotated_props[1, \"psi\"])                \n",
    "\n",
    "end\n"
   ]
  },
  {
   "cell_type": "code",
   "execution_count": 36,
   "id": "abec9938-b458-4f4c-9b1f-0c524d291db1",
   "metadata": {},
   "outputs": [
    {
     "ename": "LoadError",
     "evalue": "ArgumentError: column name :psi not found in the data frame",
     "output_type": "error",
     "traceback": [
      "ArgumentError: column name :psi not found in the data frame",
      "",
      "Stacktrace:",
      " [1] lookupname",
      "   @ ~/.julia/packages/DataFrames/kcA9R/src/other/index.jl:431 [inlined]",
      " [2] getindex",
      "   @ ~/.julia/packages/DataFrames/kcA9R/src/other/index.jl:440 [inlined]",
      " [3] getindex",
      "   @ ~/.julia/packages/DataFrames/kcA9R/src/other/index.jl:441 [inlined]",
      " [4] getindex(df::DataFrame, row_ind::Int64, col_ind::String)",
      "   @ DataFrames ~/.julia/packages/DataFrames/kcA9R/src/dataframe/dataframe.jl:522",
      " [5] top-level scope",
      "   @ In[36]:2"
     ]
    }
   ],
   "source": [
    "rotated_props = regionprops_table(label_components(rotated_floe))\n",
    "IceFloeTracker.corr(all_props[floe_id, \"psi\"], rotated_props[2, \"psi\"])  "
   ]
  },
  {
   "cell_type": "code",
   "execution_count": 29,
   "id": "87777278-46e7-45e6-bde2-d5ce242fbf2d",
   "metadata": {},
   "outputs": [
    {
     "data": {
      "text/html": [
       "<div><div style = \"float: left;\"><span>1×12 DataFrame</span></div><div style = \"clear: both;\"></div></div><div class = \"data-frame\" style = \"overflow-x: scroll;\"><table class = \"data-frame\" style = \"margin-bottom: 6px;\"><thead><tr class = \"header\"><th class = \"rowNumber\" style = \"font-weight: bold; text-align: right;\">Row</th><th style = \"text-align: left;\">area</th><th style = \"text-align: left;\">min_row</th><th style = \"text-align: left;\">min_col</th><th style = \"text-align: left;\">max_row</th><th style = \"text-align: left;\">max_col</th><th style = \"text-align: left;\">row_centroid</th><th style = \"text-align: left;\">col_centroid</th><th style = \"text-align: left;\">convex_area</th><th style = \"text-align: left;\">major_axis_length</th><th style = \"text-align: left;\">minor_axis_length</th><th style = \"text-align: left;\">orientation</th><th style = \"text-align: left;\">perimeter</th></tr><tr class = \"subheader headerLastRow\"><th class = \"rowNumber\" style = \"font-weight: bold; text-align: right;\"></th><th title = \"Float64\" style = \"text-align: left;\">Float64</th><th title = \"Int64\" style = \"text-align: left;\">Int64</th><th title = \"Int64\" style = \"text-align: left;\">Int64</th><th title = \"Int64\" style = \"text-align: left;\">Int64</th><th title = \"Int64\" style = \"text-align: left;\">Int64</th><th title = \"Int64\" style = \"text-align: left;\">Int64</th><th title = \"Int64\" style = \"text-align: left;\">Int64</th><th title = \"Float64\" style = \"text-align: left;\">Float64</th><th title = \"Float64\" style = \"text-align: left;\">Float64</th><th title = \"Float64\" style = \"text-align: left;\">Float64</th><th title = \"Float64\" style = \"text-align: left;\">Float64</th><th title = \"Float64\" style = \"text-align: left;\">Float64</th></tr></thead><tbody><tr><td class = \"rowNumber\" style = \"font-weight: bold; text-align: right;\">1</td><td style = \"text-align: right;\">4072.0</td><td style = \"text-align: right;\">25</td><td style = \"text-align: right;\">5</td><td style = \"text-align: right;\">87</td><td style = \"text-align: right;\">99</td><td style = \"text-align: right;\">52</td><td style = \"text-align: right;\">52</td><td style = \"text-align: right;\">4249.0</td><td style = \"text-align: right;\">89.5561</td><td style = \"text-align: right;\">59.1012</td><td style = \"text-align: right;\">-1.51827</td><td style = \"text-align: right;\">268.421</td></tr></tbody></table></div>"
      ],
      "text/latex": [
       "\\begin{tabular}{r|ccccccccc}\n",
       "\t& area & min\\_row & min\\_col & max\\_row & max\\_col & row\\_centroid & col\\_centroid & convex\\_area & \\\\\n",
       "\t\\hline\n",
       "\t& Float64 & Int64 & Int64 & Int64 & Int64 & Int64 & Int64 & Float64 & \\\\\n",
       "\t\\hline\n",
       "\t1 & 4072.0 & 25 & 5 & 87 & 99 & 52 & 52 & 4249.0 & $\\dots$ \\\\\n",
       "\\end{tabular}\n"
      ],
      "text/plain": [
       "\u001b[1m1×12 DataFrame\u001b[0m\n",
       "\u001b[1m Row \u001b[0m│\u001b[1m area    \u001b[0m\u001b[1m min_row \u001b[0m\u001b[1m min_col \u001b[0m\u001b[1m max_row \u001b[0m\u001b[1m max_col \u001b[0m\u001b[1m row_centroid \u001b[0m\u001b[1m col_centroid\u001b[0m ⋯\n",
       "     │\u001b[90m Float64 \u001b[0m\u001b[90m Int64   \u001b[0m\u001b[90m Int64   \u001b[0m\u001b[90m Int64   \u001b[0m\u001b[90m Int64   \u001b[0m\u001b[90m Int64        \u001b[0m\u001b[90m Int64       \u001b[0m ⋯\n",
       "─────┼──────────────────────────────────────────────────────────────────────────\n",
       "   1 │  4072.0       25        5       87       99            52            52 ⋯\n",
       "\u001b[36m                                                               5 columns omitted\u001b[0m"
      ]
     },
     "execution_count": 29,
     "metadata": {},
     "output_type": "execute_result"
    }
   ],
   "source": [
    "rotated_props[rotated_props.area .> 1, :]"
   ]
  },
  {
   "cell_type": "code",
   "execution_count": null,
   "id": "3e1356fd-b432-4d9e-9cbc-918e79f504df",
   "metadata": {},
   "outputs": [],
   "source": []
  }
 ],
 "metadata": {
  "kernelspec": {
   "display_name": "Julia 1.11.4",
   "language": "julia",
   "name": "julia-1.11"
  },
  "language_info": {
   "file_extension": ".jl",
   "mimetype": "application/julia",
   "name": "julia",
   "version": "1.11.4"
  }
 },
 "nbformat": 4,
 "nbformat_minor": 5
}
