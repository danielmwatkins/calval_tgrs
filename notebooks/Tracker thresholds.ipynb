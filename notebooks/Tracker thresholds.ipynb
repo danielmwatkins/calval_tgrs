{
 "cells": [
  {
   "cell_type": "markdown",
   "id": "904e538a-d2b8-4ca4-931c-35202ebd6b02",
   "metadata": {},
   "source": [
    "# Determining optimal thresholds for the tracker function\n",
    "The floe tracking functionality uses a set of similarity metrics find the best matches between pairs of ice floes observed in different images. The first step is to filter the list of candidate floes by a time-dependent travel distance threshold. In this notebook, we examine the uncertainty in floe similarity metrics as a function of the floe shape and size, in order to determine the best choices of thresholds. Define the normalized absolute difference between X and Y as\n",
    "$$ AD(X, Y) = \\frac{2|X - Y|}{X + Y} $$\n",
    "We can then define the following metrics for a pair of floes $f$ and $g$:\n",
    "\n",
    "* $AD_{area} = AD(\\mbox{area}(X), \\mbox{area}(Y))$\n",
    "* $AD_{convex} = AD(\\mbox{convex\\_area}(X), \\mbox{convex\\_area}(Y))$\n",
    "* $AD_{axmin} = AD(\\mbox{axis\\_minor\\_length}(X), \\mbox{axis\\_minor\\_length}(Y))$\n",
    "* $AD_{axmin} = AD(\\mbox{axis\\_major\\_length}(X), \\mbox{axis\\_major\\_length}(Y))$\n",
    "\n",
    "For the ice floes with sufficient scores on the similarity metrics, additional measurements are taken based on the properties of the boundaries and the match score after optimal rotation. The QuadDIRECT (QD) algorithm is used to find the optimal rigid registration (shift + rotation) of a pair of images, optimized by minimizing the mean square error between the original image and the transformed image. For binary images, the error is equivalent to the recall (TBD: verify this! Could be a function of Re instead of actually Re). The (normalized) symmetric difference measures the area where the two objects don't match.\n",
    "\n",
    "* $\\psi\\mbox{-}s$ curve correlation\n",
    "* $Re(X, Y) = \\frac{\\mbox{area}(X \\cap Y)}{\\mbox{area}(X)}$\n",
    "* $SD(X,Y) = \\mbox{area}(X \\setminus \\, Y) \\cup \\mbox{area}(Y \\setminus X)$\n",
    "* Normalized $SD(X, Y) = SD(X, Y)/\\mbox{area}(X)$\n",
    "\n",
    "For $Re$ and $SD$, we take the measure between the source floe and the candidate match _after_ rotation. So letting $R_\\theta$ be the rotation operator, and considering $X$ the source and $Y$ the candidate match, we compute the measures with $R_\\theta Y$ instead of $Y$.\n",
    "\n",
    "# Experiment\n",
    "Even with optimal ice floe identification, measures of object properties from a discretzed, binary representation of an object will  have inherent uncertainty. To quantify the uncertainty, we use manually identified ice floe labels, and carry out an experiment in which we vary the object orientation and test the difference in each measure. \n",
    "\n",
    "* Rotation, original size. For each rotation $\\theta$, we compute shape measures, the 4 ratios and the psi-s correlation, then we use the QD algorithm to estimate the rotation angle. We record $\\hat \\theta$ and the computed mismatch $mm$, and manually compute $Re(X, R_\\hat{\\theta} Y)$, and the normalized $SD(X, R_\\hat{\\theta})$.\n",
    "* We also compute downsampled versions of each shape and rotated shape by scaling the shape to 1/2 size and 1/4 size. The scaling is done after the rotation, to simulate the effect of a true rotated shape being discretized by a low-resolution sensor, as opposed to adding error from rotating a discretized shape."
   ]
  },
  {
   "cell_type": "code",
   "execution_count": 69,
   "id": "a2b576cd-75c1-4288-9f8d-5529b8b242dc",
   "metadata": {},
   "outputs": [
    {
     "name": "stderr",
     "output_type": "stream",
     "text": [
      "\u001b[32m\u001b[1m  Activating\u001b[22m\u001b[39m project at `~/Documents/research/manuscripts/cal-val_ice_floe_tracker/calval_tgrs/notebooks/calval`\n"
     ]
    }
   ],
   "source": [
    "using Pkg;\n",
    "Pkg.activate(\"calval\")\n",
    "# Pkg.precompile()\n",
    "# Pkg.instantiate()\n",
    "\n",
    "using IceFloeTracker\n",
    "using IceFloeTracker: load, regionprops_table, label_components, imshow, absdiffmeanratio, mismatch\n",
    "using DataFrames, Statistics, CSV, Dates, Plots, Interpolations, Images"
   ]
  },
  {
   "cell_type": "markdown",
   "id": "2a9122f5-e7ca-4ee0-9bb1-3181d9ce70bb",
   "metadata": {},
   "source": [
    "We're going to use some images in the test_images folder. Starting with one is fine. The aim is to have a function where we can\n",
    "* import the image\n",
    "* select the large-enough floes\n",
    "* for each floe, compute the rotations\n",
    "* for each floe and each rotation, compute the downsampled sizes\n",
    "* compute the measures, ratios, and rotations\n",
    "* save the results to a CSV for analysis"
   ]
  },
  {
   "cell_type": "code",
   "execution_count": 2,
   "id": "2c432b81-0d04-458a-a9d6-2469d16dbe57",
   "metadata": {},
   "outputs": [],
   "source": [
    "# Load the images from file\n",
    "fname = \"008_baffin_bay_20080704_aqua_labeled_floes_v1.png\"\n",
    "test_images_loc = \"../data/test_images_tracker_setup/\"\n",
    "image = load(joinpath(test_images_loc, fname))\n",
    "        \n",
    "# Add labels and get region properties\n",
    "labeled_image = label_components(image);\n",
    "props = regionprops_table(labeled_image);"
   ]
  },
  {
   "cell_type": "code",
   "execution_count": 4,
   "id": "9f24abf2-3d00-4adb-b4c8-0f3add3f2439",
   "metadata": {},
   "outputs": [
    {
     "data": {
      "image/png": "[encoded data removed]",
      "text/html": [
       "<img src=\"data:image/png;base64,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\">"
      ],
      "text/plain": [
       "391×391 Array{Gray{Float32},2} with eltype Gray{Float32}:\n",
       " Gray{Float32}(0.0)  Gray{Float32}(0.0)  …  Gray{Float32}(0.0)\n",
       " Gray{Float32}(0.0)  Gray{Float32}(0.0)     Gray{Float32}(0.0)\n",
       " Gray{Float32}(0.0)  Gray{Float32}(0.0)     Gray{Float32}(0.0)\n",
       " Gray{Float32}(0.0)  Gray{Float32}(0.0)     Gray{Float32}(0.0)\n",
       " Gray{Float32}(0.0)  Gray{Float32}(0.0)     Gray{Float32}(0.0)\n",
       " Gray{Float32}(0.0)  Gray{Float32}(0.0)  …  Gray{Float32}(0.0)\n",
       " Gray{Float32}(0.0)  Gray{Float32}(0.0)     Gray{Float32}(0.0)\n",
       " Gray{Float32}(0.0)  Gray{Float32}(0.0)     Gray{Float32}(0.0)\n",
       " Gray{Float32}(0.0)  Gray{Float32}(0.0)     Gray{Float32}(0.0)\n",
       " Gray{Float32}(0.0)  Gray{Float32}(0.0)     Gray{Float32}(0.0)\n",
       " Gray{Float32}(0.0)  Gray{Float32}(0.0)  …  Gray{Float32}(0.0)\n",
       " Gray{Float32}(0.0)  Gray{Float32}(0.0)     Gray{Float32}(0.0)\n",
       " Gray{Float32}(0.0)  Gray{Float32}(0.0)     Gray{Float32}(0.0)\n",
       " ⋮                                       ⋱  ⋮\n",
       " Gray{Float32}(0.0)  Gray{Float32}(1.0)     Gray{Float32}(0.0)\n",
       " Gray{Float32}(0.0)  Gray{Float32}(0.0)  …  Gray{Float32}(0.0)\n",
       " Gray{Float32}(0.0)  Gray{Float32}(0.0)     Gray{Float32}(0.0)\n",
       " Gray{Float32}(0.0)  Gray{Float32}(0.0)     Gray{Float32}(0.0)\n",
       " Gray{Float32}(0.0)  Gray{Float32}(0.0)     Gray{Float32}(0.0)\n",
       " Gray{Float32}(0.0)  Gray{Float32}(0.0)     Gray{Float32}(0.0)\n",
       " Gray{Float32}(0.0)  Gray{Float32}(0.0)  …  Gray{Float32}(0.0)\n",
       " Gray{Float32}(0.0)  Gray{Float32}(0.0)     Gray{Float32}(0.0)\n",
       " Gray{Float32}(0.0)  Gray{Float32}(0.0)     Gray{Float32}(0.0)\n",
       " Gray{Float32}(0.0)  Gray{Float32}(0.0)     Gray{Float32}(0.0)\n",
       " Gray{Float32}(0.0)  Gray{Float32}(0.0)     Gray{Float32}(0.0)\n",
       " Gray{Float32}(0.0)  Gray{Float32}(0.0)  …  Gray{Float32}(0.0)"
      ]
     },
     "execution_count": 4,
     "metadata": {},
     "output_type": "execute_result"
    }
   ],
   "source": [
    "imshow(image * 255)"
   ]
  },
  {
   "cell_type": "code",
   "execution_count": 5,
   "id": "a25f0dff-dd0c-4243-aed7-abe0db4cc437",
   "metadata": {},
   "outputs": [],
   "source": [
    "greaterthan0(x) = x .> 0 # convert labeled image to boolean\n",
    "greaterthan05(x) = x .> 0.5 # used for the image resize step\n",
    "\n",
    "IceFloeTracker.addfloemasks!(props, greaterthan0.(labeled_image));"
   ]
  },
  {
   "cell_type": "code",
   "execution_count": 59,
   "id": "7679a071-7243-4c2d-b472-25ddcf0cc4dc",
   "metadata": {},
   "outputs": [
    {
     "data": {
      "text/html": [
       "<div><div style = \"float: left;\"><span>1×12 DataFrame</span></div><div style = \"clear: both;\"></div></div><div class = \"data-frame\" style = \"overflow-x: scroll;\"><table class = \"data-frame\" style = \"margin-bottom: 6px;\"><thead><tr class = \"header\"><th class = \"rowNumber\" style = \"font-weight: bold; text-align: right;\">Row</th><th style = \"text-align: left;\">area</th><th style = \"text-align: left;\">min_row</th><th style = \"text-align: left;\">min_col</th><th style = \"text-align: left;\">max_row</th><th style = \"text-align: left;\">max_col</th><th style = \"text-align: left;\">row_centroid</th><th style = \"text-align: left;\">col_centroid</th><th style = \"text-align: left;\">convex_area</th><th style = \"text-align: left;\">major_axis_length</th><th style = \"text-align: left;\">minor_axis_length</th><th style = \"text-align: left;\">orientation</th><th style = \"text-align: left;\">perimeter</th></tr><tr class = \"subheader headerLastRow\"><th class = \"rowNumber\" style = \"font-weight: bold; text-align: right;\"></th><th title = \"Float64\" style = \"text-align: left;\">Float64</th><th title = \"Int64\" style = \"text-align: left;\">Int64</th><th title = \"Int64\" style = \"text-align: left;\">Int64</th><th title = \"Int64\" style = \"text-align: left;\">Int64</th><th title = \"Int64\" style = \"text-align: left;\">Int64</th><th title = \"Int64\" style = \"text-align: left;\">Int64</th><th title = \"Int64\" style = \"text-align: left;\">Int64</th><th title = \"Float64\" style = \"text-align: left;\">Float64</th><th title = \"Float64\" style = \"text-align: left;\">Float64</th><th title = \"Float64\" style = \"text-align: left;\">Float64</th><th title = \"Float64\" style = \"text-align: left;\">Float64</th><th title = \"Float64\" style = \"text-align: left;\">Float64</th></tr></thead><tbody><tr><td class = \"rowNumber\" style = \"font-weight: bold; text-align: right;\">1</td><td style = \"text-align: right;\">670.0</td><td style = \"text-align: right;\">3</td><td style = \"text-align: right;\">5</td><td style = \"text-align: right;\">37</td><td style = \"text-align: right;\">33</td><td style = \"text-align: right;\">19</td><td style = \"text-align: right;\">21</td><td style = \"text-align: right;\">718.0</td><td style = \"text-align: right;\">41.2754</td><td style = \"text-align: right;\">21.5412</td><td style = \"text-align: right;\">0.546744</td><td style = \"text-align: right;\">112.083</td></tr></tbody></table></div>"
      ],
      "text/latex": [
       "\\begin{tabular}{r|ccccccccc}\n",
       "\t& area & min\\_row & min\\_col & max\\_row & max\\_col & row\\_centroid & col\\_centroid & convex\\_area & \\\\\n",
       "\t\\hline\n",
       "\t& Float64 & Int64 & Int64 & Int64 & Int64 & Int64 & Int64 & Float64 & \\\\\n",
       "\t\\hline\n",
       "\t1 & 670.0 & 3 & 5 & 37 & 33 & 19 & 21 & 718.0 & $\\dots$ \\\\\n",
       "\\end{tabular}\n"
      ],
      "text/plain": [
       "\u001b[1m1×12 DataFrame\u001b[0m\n",
       "\u001b[1m Row \u001b[0m│\u001b[1m area    \u001b[0m\u001b[1m min_row \u001b[0m\u001b[1m min_col \u001b[0m\u001b[1m max_row \u001b[0m\u001b[1m max_col \u001b[0m\u001b[1m row_centroid \u001b[0m\u001b[1m col_centroid\u001b[0m ⋯\n",
       "     │\u001b[90m Float64 \u001b[0m\u001b[90m Int64   \u001b[0m\u001b[90m Int64   \u001b[0m\u001b[90m Int64   \u001b[0m\u001b[90m Int64   \u001b[0m\u001b[90m Int64        \u001b[0m\u001b[90m Int64       \u001b[0m ⋯\n",
       "─────┼──────────────────────────────────────────────────────────────────────────\n",
       "   1 │   670.0        3        5       37       33            19            21 ⋯\n",
       "\u001b[36m                                                               5 columns omitted\u001b[0m"
      ]
     },
     "execution_count": 59,
     "metadata": {},
     "output_type": "execute_result"
    }
   ],
   "source": [
    "init_floe = props[7,:mask]\n",
    "shift = 5\n",
    "# imrotate returns an OffsetArray, collect turns it into a standard Matrix\n",
    "rotated_floe = collect(imrotate(init_floe, deg2rad(shift), method=BSpline(Constant())));\n",
    "test = regionprops_table(label_components(rotated_floe))"
   ]
  },
  {
   "cell_type": "code",
   "execution_count": 49,
   "id": "caf59208-7800-4ea0-9402-0c4765ed20e1",
   "metadata": {},
   "outputs": [
    {
     "data": {
      "text/plain": [
       "8×8 BitMatrix:\n",
       " 1  1  1  1  0  0  0  0\n",
       " 0  1  1  1  1  1  0  0\n",
       " 0  1  1  1  1  1  1  0\n",
       " 0  0  1  1  1  1  1  0\n",
       " 0  0  1  1  1  1  1  1\n",
       " 0  0  0  1  1  1  1  1\n",
       " 0  0  0  0  1  1  1  1\n",
       " 0  0  0  0  1  1  1  1"
      ]
     },
     "execution_count": 49,
     "metadata": {},
     "output_type": "execute_result"
    }
   ],
   "source": [
    "greaterthan05(x) = x .> 0.5"
   ]
  },
  {
   "cell_type": "code",
   "execution_count": 269,
   "id": "91c26a6a-fb5b-454d-9196-b6438d37bac8",
   "metadata": {},
   "outputs": [],
   "source": [
    "df = DataFrame(\n",
    "               floe_id=Int16[],\n",
    "               size=Float64[],\n",
    "               rotation=Float64[],\n",
    "               area=Float64[],\n",
    "               convex_area=Float64[],\n",
    "               major_axis_length=Float64[],\n",
    "               minor_axis_length=Float64[],\n",
    "               adr_area=Float64[],\n",
    "               adr_convex_area=Float64[],\n",
    "               adr_major_axis_length=Float64[],\n",
    "               adr_minor_axis_length=Float64[],\n",
    "               est_rotation=Float64[],\n",
    "               mismatch=Float64[],\n",
    "               recall=Float64[],\n",
    "               normalized_sd=Float64[]\n",
    "               )\n",
    "floe_id = 0\n",
    "for floe_data in eachrow(props) # replace this list with iterating through rows of props and checking area\n",
    "    if floe_data[\"area\"] > 500\n",
    "        init_floe = copy(floe_data[\"mask\"])\n",
    "        # pad the floe to avoid changing floe area relative to image size\n",
    "        n = Int64(round(maximum(size(init_floe))))\n",
    "        padded_init = collect(padarray(init_floe, Fill(0, (n, n), (n, n))))\n",
    "        for rotation in range(0, 90, 31)\n",
    "            for scale in [1, 0.5, 0.25]\n",
    "                if scale < 1        \n",
    "                    new_size = trunc.(Int, size(imrotated) .* scale)\n",
    "                    im_scaled = greaterthan05(collect(imresize(padded_init, new_size)))\n",
    "                else\n",
    "                    im_scaled = copy(padded_init)\n",
    "            \n",
    "                im_scaled_rotated = collect(imrotate(im_scaled, deg2rad(rotation), method=BSpline(Constant())));\n",
    "                im_scaled_rotated = greaterthan05(im_scaled_rotated)\n",
    "                        \n",
    "                scaled_props = regionprops_table(label_components(im_scaled))\n",
    "                scaled_rotated_props = regionprops_table(label_components(im_scaled_rotated))\n",
    "                \n",
    "                # rotation estimate\n",
    "                mm, estimated_rotation = mismatch(im_scaled, im_scaled_rotated)\n",
    "                \n",
    "                # tbd: need to find shared indices first\n",
    "                recall = 0\n",
    "                normalized_sd = 0\n",
    "                \n",
    "                push!(df, (floe_id,\n",
    "                           scale,\n",
    "                           rotation,\n",
    "                           scaled_rotated_props[1,:area],\n",
    "                           scaled_rotated_props[1,:convex_area],\n",
    "                           scaled_rotated_props[1,:major_axis_length],\n",
    "                           scaled_rotated_props[1,:minor_axis_length],\n",
    "                           absdiffmeanratio(scaled_props[1,:area], scaled_rotated_props[1,:area]),\n",
    "                           absdiffmeanratio(scaled_props[1,:convex_area], scaled_rotated_props[1,:convex_area]),\n",
    "                           absdiffmeanratio(scaled_props[1,:major_axis_length], scaled_rotated_props[1,:major_axis_length]),\n",
    "                           absdiffmeanratio(scaled_props[1,:minor_axis_length], scaled_rotated_props[1,:minor_axis_length]),\n",
    "                           estimated_rotation,\n",
    "                           mm,\n",
    "                           recall,\n",
    "                           normalized_sd\n",
    "                           )) \n",
    "                end\n",
    "            end\n",
    "        end\n",
    "        floe_id += 1\n",
    "    end\n",
    "end\n",
    "CSV.write(\"../data/shape_experiment1.csv\", df);\n"
   ]
  },
  {
   "cell_type": "code",
   "execution_count": 268,
   "id": "580bedbd-b5ca-4396-8121-af0efac13ef1",
   "metadata": {},
   "outputs": [
    {
     "data": {
      "text/plain": [
       "OffsetMatrix{Bool, BitMatrix}\u001b[90m (alias for \u001b[39m\u001b[90mOffsetArray{Bool, 2, BitArray{2}}\u001b[39m\u001b[90m)\u001b[39m"
      ]
     },
     "execution_count": 268,
     "metadata": {},
     "output_type": "execute_result"
    }
   ],
   "source": [
    "typeof(padded_init)"
   ]
  },
  {
   "cell_type": "code",
   "execution_count": 317,
   "id": "c0ff49df-5f04-47ae-a174-0a22dedefccd",
   "metadata": {},
   "outputs": [
    {
     "data": {
      "image/png": "[encoded data removed]",
      "text/html": [
       "<img src=\"data:image/png;base64,iVBORw0KGgoAAAANSUhEUgAAATsAAAEvCAAAAAAf8DmWAAAAAXNSR0IArs4c6QAAAARnQU1BAACxjwv8YQUAAAAgY0hSTQAAeiYAAICEAAD6AAAAgOgAAHUwAADqYAAAOpgAABdwnLpRPAAABCZJREFUeAHtwQFuJMcBBMFsIP/dvS8f83iWtKQl+a7A7ZkhKkIqJZWSSkmlpFJSKamUVEoqJZWSSkmlpFJSKamUVEoqJZWSSkmlpFJSKamUVEoqJZWSSkmlpFJSKamUVEoqJZWSSkmlpFJSKamUVEoqJZWSSkmlpFJSKamUVEoqJZWSSkmlpFJSKamUVEoqJZWSSkmlpFJSKamUVEoqJZWSSkmlpFJSKamUVEoqJZWSSkmlpFJSKamUVEoqJZWSSkmlpFJSKamUVEoqJZWSSkmlpFJSKamUVEoqJZWSSkmlpFJSKamUVEoqJbeweLN4d/BucDa5vsVPCyZ/OngzOJFc3eKnyd84GJxGrm3xw+QfHQxOIle2+GHyr47BOeS6Fm8m/9fB4N1isZFc1eLN5JccgzcL1mIfuabFm8mvOgYsNpMLWryb/LrFfnIxiz9MfsN88G6x2EUuZXEjciGLJ5PfMh/sJpexeDa5PLmKxbNJai02kYtYPJvcgFzD4tnkDuQSFjckV7D4YHILcj2Te5ALWDyZ3IVcy+Q+5HyLP0zuRE63uCk52eIvk1uRcy3uS061uDE50eLW5DyLjyb3ImdZfDK5GTnJ4pPJ3cg5Fp9MvshiFznF4pPJ/cgJFp9NvshiH9lv8cnkC8wHm8lui08mX2exkWy2+GRyV7LX4pUWO8lOi08mX2c+2EvONPlK88FWstHio8nXmnOwkeyz+Gjy5Y7BPrLN4oPJKxyDbWSXxRbHYBc5yeT25ByTVzkGm8gpJt+AnGDyLch+k+9BKiW7rMVPk29Cdpt8F7LNWryZvNhgF9lnLZi82GAb2WityYsN9pGd1uS1BhtJpeQbGWwlOx280mAv+TYGm8lGB68z2E6+h8F+ss3BywzOIN/A4BSyy8GrDM4htzc4idzc4DRyb4PzyJ0NziQ3NjiV3NfgXHJXg7PJTQ1OJ/c0OJ9USm5pcAFSKbmjwRXIDQ0uQe5ncA1yO4OLkF3GwZcYXIXcy+A65E4GVyL3MbgW2WZwEBtcj+w2YDH5HYNLks0GsNZj8ssGFyUbjYPBD2s9Jr9mcFmy0+C/FkzgwU+TfzC4MDnJ4skDJv9rcGlylsXiyYPJR4OLk/MsFk8eMPnT4PLkTIs3i3cLWHDwZnAHcrrFs8FtSKWkUlIpqZRUSiollZJKSaWkUlIpqZRUSiollZJKSaWkUlIpqZRUSiollZJKSaWkUlIpqZRUSiollZJKSaWkUlIpqZRUSiollZJKSaWkUlIpqZRUSiollZJKSaWkUlIpqZRUSiollZJKSaWkUlIpqZRUSiollZJKSaWkUlIpqZRUSiollZJKSaWkUlIpqZRUSiollZJKSaWkUlIpqZRUSiollZJKSaWkUlIpqZRUSiollZJKSaWkUlIpqZRUSiollZJK/Qd7xWU0e+bIowAAAABJRU5ErkJg\">"
      ],
      "text/plain": [
       "303×315 Array{Gray{Float64},2} with eltype Gray{Float64}:\n",
       " Gray{Float64}(0.0)  Gray{Float64}(0.0)  …  Gray{Float64}(0.0)\n",
       " Gray{Float64}(0.0)  Gray{Float64}(0.0)     Gray{Float64}(0.0)\n",
       " Gray{Float64}(0.0)  Gray{Float64}(0.0)     Gray{Float64}(0.0)\n",
       " Gray{Float64}(0.0)  Gray{Float64}(0.0)     Gray{Float64}(0.0)\n",
       " Gray{Float64}(0.0)  Gray{Float64}(0.0)     Gray{Float64}(0.0)\n",
       " Gray{Float64}(0.0)  Gray{Float64}(0.0)  …  Gray{Float64}(0.0)\n",
       " Gray{Float64}(0.0)  Gray{Float64}(0.0)     Gray{Float64}(0.0)\n",
       " Gray{Float64}(0.0)  Gray{Float64}(0.0)     Gray{Float64}(0.0)\n",
       " Gray{Float64}(0.0)  Gray{Float64}(0.0)     Gray{Float64}(0.0)\n",
       " Gray{Float64}(0.0)  Gray{Float64}(0.0)     Gray{Float64}(0.0)\n",
       " Gray{Float64}(0.0)  Gray{Float64}(0.0)  …  Gray{Float64}(0.0)\n",
       " Gray{Float64}(0.0)  Gray{Float64}(0.0)     Gray{Float64}(0.0)\n",
       " Gray{Float64}(0.0)  Gray{Float64}(0.0)     Gray{Float64}(0.0)\n",
       " ⋮                                       ⋱  \n",
       " Gray{Float64}(0.0)  Gray{Float64}(0.0)     Gray{Float64}(0.0)\n",
       " Gray{Float64}(0.0)  Gray{Float64}(0.0)     Gray{Float64}(0.0)\n",
       " Gray{Float64}(0.0)  Gray{Float64}(0.0)     Gray{Float64}(0.0)\n",
       " Gray{Float64}(0.0)  Gray{Float64}(0.0)     Gray{Float64}(0.0)\n",
       " Gray{Float64}(0.0)  Gray{Float64}(0.0)  …  Gray{Float64}(0.0)\n",
       " Gray{Float64}(0.0)  Gray{Float64}(0.0)     Gray{Float64}(0.0)\n",
       " Gray{Float64}(0.0)  Gray{Float64}(0.0)     Gray{Float64}(0.0)\n",
       " Gray{Float64}(0.0)  Gray{Float64}(0.0)     Gray{Float64}(0.0)\n",
       " Gray{Float64}(0.0)  Gray{Float64}(0.0)     Gray{Float64}(0.0)\n",
       " Gray{Float64}(0.0)  Gray{Float64}(0.0)  …  Gray{Float64}(0.0)\n",
       " Gray{Float64}(0.0)  Gray{Float64}(0.0)     Gray{Float64}(0.0)\n",
       " Gray{Float64}(0.0)  Gray{Float64}(0.0)     Gray{Float64}(0.0)"
      ]
     },
     "execution_count": 317,
     "metadata": {},
     "output_type": "execute_result"
    }
   ],
   "source": [
    "Gray.(im_scaled/2 + im_rotated)"
   ]
  },
  {
   "cell_type": "code",
   "execution_count": 329,
   "id": "e29cff43-a7b6-4980-b719-e78e10430e2d",
   "metadata": {},
   "outputs": [
    {
     "data": {
      "text/plain": [
       "1944"
      ]
     },
     "execution_count": 329,
     "metadata": {},
     "output_type": "execute_result"
    }
   ],
   "source": [
    "a_not_b = (im_scaled .> 0) .& (greaterthan05(im_rotated) .== 0);\n",
    "b_not_a = (im_scaled .== 0) .& (greaterthan05(im_rotated) .> 0);\n",
    "sum(a_not_b .|| b_not_a)"
   ]
  },
  {
   "cell_type": "markdown",
   "id": "dc2ff1a7-e399-4594-b67a-5cc3461f9627",
   "metadata": {},
   "source": [
    "next steps:\n",
    "- save results to CSV\n",
    "- Examine statistics\n",
    "\n",
    "- Error after best approximation rotation"
   ]
  },
  {
   "cell_type": "code",
   "execution_count": 278,
   "id": "632145d5-44fd-4c39-81c9-966a810e87e5",
   "metadata": {},
   "outputs": [
    {
     "data": {
      "text/plain": [
       "\"021\""
      ]
     },
     "execution_count": 278,
     "metadata": {},
     "output_type": "execute_result"
    }
   ],
   "source": [
    "fname = \"021_flaskdjflkjasdf\"\n",
    "fname[1:3]"
   ]
  },
  {
   "cell_type": "code",
   "execution_count": 301,
   "id": "c35a0952-919a-4bdf-8aeb-a83169152c9f",
   "metadata": {},
   "outputs": [],
   "source": [
    "init_floe = copy(props[12, \"mask\"])\n",
    "# pad the floe to avoid changing floe area relative to image size\n",
    "n = Int64(round(maximum(size(init_floe))))\n",
    "padded_init = collect(padarray(init_floe, Fill(0, (n, n), (n, n))))\n",
    "example_images = []\n",
    "for rotation in range(0, π, 6)\n",
    "    new_size = trunc.(Int, size(padded_init) .* scale)\n",
    "    im_rotated = imrotate(padded_init, rotation, axes(padded_init))\n",
    "    im_rotated_scaled = greaterthan05(imresize(im_rotated, new_size))\n",
    "    im_scaled = greaterthan05(imresize(padded_init, new_size))\n",
    "    push!(example_images, im_rotated_scaled)\n",
    "end"
   ]
  },
  {
   "cell_type": "code",
   "execution_count": 305,
   "id": "54d3acf6-fbda-46bc-8953-db833e3f936d",
   "metadata": {},
   "outputs": [
    {
     "data": {
      "image/png": "[encoded data removed]",
      "text/html": [
       "<img src=\"data:image/png;base64,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\">"
      ],
      "text/plain": [
       "289×470 MosaicView{Gray{Bool}, 4, Base.ReshapedArray{Gray{Bool}, 4, PaddedView{Gray{Bool}, 3, Tuple{Base.OneTo{Int64}, Base.OneTo{Int64}, Base.OneTo{Int64}}, StackViews.StackView{Gray{Bool}, 3, 3, Vector{OffsetMatrix{Gray{Bool}, PaddedView{Gray{Bool}, 2, Tuple{Base.IdentityUnitRange{UnitRange{Int64}}, Base.IdentityUnitRange{UnitRange{Int64}}}, Matrix{Gray{Bool}}}}}}}, Tuple{Base.MultiplicativeInverses.SignedMultiplicativeInverse{Int64}, Base.MultiplicativeInverses.SignedMultiplicativeInverse{Int64}}}}:\n",
       " Gray{Bool}(false)  Gray{Bool}(false)  …  Gray{Bool}(false)\n",
       " Gray{Bool}(false)  Gray{Bool}(false)     Gray{Bool}(false)\n",
       " Gray{Bool}(false)  Gray{Bool}(false)     Gray{Bool}(false)\n",
       " Gray{Bool}(false)  Gray{Bool}(false)     Gray{Bool}(false)\n",
       " Gray{Bool}(false)  Gray{Bool}(false)     Gray{Bool}(false)\n",
       " Gray{Bool}(false)  Gray{Bool}(false)  …  Gray{Bool}(false)\n",
       " Gray{Bool}(false)  Gray{Bool}(false)     Gray{Bool}(false)\n",
       " Gray{Bool}(false)  Gray{Bool}(false)     Gray{Bool}(false)\n",
       " Gray{Bool}(false)  Gray{Bool}(false)     Gray{Bool}(false)\n",
       " Gray{Bool}(false)  Gray{Bool}(false)     Gray{Bool}(false)\n",
       " Gray{Bool}(false)  Gray{Bool}(false)  …  Gray{Bool}(false)\n",
       " Gray{Bool}(false)  Gray{Bool}(false)     Gray{Bool}(false)\n",
       " Gray{Bool}(false)  Gray{Bool}(false)     Gray{Bool}(false)\n",
       " ⋮                                     ⋱  \n",
       " Gray{Bool}(false)  Gray{Bool}(false)     Gray{Bool}(false)\n",
       " Gray{Bool}(false)  Gray{Bool}(false)     Gray{Bool}(false)\n",
       " Gray{Bool}(false)  Gray{Bool}(false)     Gray{Bool}(false)\n",
       " Gray{Bool}(false)  Gray{Bool}(false)  …  Gray{Bool}(false)\n",
       " Gray{Bool}(false)  Gray{Bool}(false)     Gray{Bool}(false)\n",
       " Gray{Bool}(false)  Gray{Bool}(false)     Gray{Bool}(false)\n",
       " Gray{Bool}(false)  Gray{Bool}(false)     Gray{Bool}(false)\n",
       " Gray{Bool}(false)  Gray{Bool}(false)     Gray{Bool}(false)\n",
       " Gray{Bool}(false)  Gray{Bool}(false)  …  Gray{Bool}(false)\n",
       " Gray{Bool}(false)  Gray{Bool}(false)     Gray{Bool}(false)\n",
       " Gray{Bool}(false)  Gray{Bool}(false)     Gray{Bool}(false)\n",
       " Gray{Bool}(false)  Gray{Bool}(false)     Gray{Bool}(false)"
      ]
     },
     "execution_count": 305,
     "metadata": {},
     "output_type": "execute_result"
    }
   ],
   "source": [
    "crop = 80\n",
    "Images.mosaicview([Gray.(im[crop:end-crop, crop:end-crop]) for im in example_images], npad=1, nrow=2, fill=20)\n"
   ]
  },
  {
   "cell_type": "code",
   "execution_count": 275,
   "id": "d440ab78-407f-4ee6-9d5b-23b8069d4f76",
   "metadata": {},
   "outputs": [
    {
     "data": {
      "text/plain": [
       "(503, 506)"
      ]
     },
     "execution_count": 275,
     "metadata": {},
     "output_type": "execute_result"
    }
   ],
   "source": [
    "sum(im_scaled .> 0), sum(im_rotated_scaled .> 0)"
   ]
  },
  {
   "cell_type": "code",
   "execution_count": 213,
   "id": "fc5d7000-aabe-425e-be94-64c8edbb4db1",
   "metadata": {},
   "outputs": [
    {
     "data": {
      "image/png": "[encoded data removed]",
      "text/html": [
       "<img src=\"data:image/png;base64,iVBORw0KGgoAAAANSUhEUgAAAk8AAADFCAAAAABoGEklAAAAAXNSR0IArs4c6QAAAARnQU1BAACxjwv8YQUAAAAgY0hSTQAAeiYAAICEAAD6AAAAgOgAAHUwAADqYAAAOpgAABdwnLpRPAAADJpJREFUeAHtwQmU1eV5wOHfd+edOxszzLAVBZkhgAUBwSnGWCVWk0CSo6k51VArLkdRarWmpx6NWqpJXMLxRNPUo4CNaOKgxKUGtZ5WMZq4K4xGBAkiMMgywyIzMPudma8Ek2jixv/e9/vfe+F9HsEYPYIxegRj9AjG6BGM0SMYo0cwRo9gjB7BGD2CMXoEY/QIxugRjNEjGKNHMEaPYIwewRg9gjF6BGP0CMboEYzRIxijRzBGj2CMHsEYPYIxegRj9AjG6BGM0SMYo0cwRo9gjB7BGD2CMXoEY/QIxugRjNEjGKNHMEaPYIwewRg9gjF6BGP0CMboEYzRIxijRzBGj2CMHsEYPYIxegRj9AjmIOM84Qjx8ezlMFlVUjCsYsjQ2pJ1ry079DXn0SXExPM+Dw6TLSVFU2dMSo0rht7VPe8serFqFaqEWHg+xIPDZEHxoPEXVx/JPgXjmXTk7ta5765r50OcJxNCDDx/zuPINV98LVW19cq5HLCSI/7y8sHjHB8YzZ6fPH9bU9lyfsf5iQm/tb2NP3CeqITgPB/Hg+N9HnBkW2+i8b2h7xw9fnf9zqKfc+ApGDV+TmV1AX+qvPwbE3t/c+8rw1J9yc7aL//D6rd/+PYu9ikd0rWrk4iEwDyfyPMB7/g9jyN+Hhg6lAHMhL7EML9qzXoOJG7U5CurDi3mo4rGMvbIVEoGNbuBVcWTx004e7lnr+TQ68ov29ZCNEJQnv3lHft48I64eT4kwc3w0ryGys3Lhm0m/znP8GMuHjG0jE9QMIG9RtCXgKKaH19e3wlM//vTOh48o4VohIA8EXjHXp5s8HzEF77QVcSG1uNr2taS30pk+PjzqqvL+EwJ9ioZu+D79R1D/uKs00n6HueJRAjFE5EnW57l4xRBDe+UlP7j8mWVhdvZZ/CuHvJJYmS/TcedMTE1QdhvA4rndBZ39RsH9B/X2dRFFEIInox4HDG6/ng+0UCYz7ru0cdvX8dfD594VnN9V89rGyv+m7xQc9SlA/pkAtGUTnS8r+aabbM3EoWgz5NfxvMZPgePDq5vmp6A6klAd/KiwlvJdcnhk84fWVNKdI4/qF1dtZEoBG2ePFM5lc82mFr+KMk8DuOKRB+5q2LguNkjJ5KpzhIiEXR58k6yZSDRXc6IxAUt5CoZP2fEBDJXM5RIBFUeHd4Rm20p0jKDklPIVV+dMU1QUDKKSARNnjw0dgxpOvnWRSvayEWnn/dVVBR96xZPBIIiTz5a/e1bSdMllyw5ldyTmH7mNJSU928mAkGPJz/Vkr6/vSN1WZcnp5R++drDEyhZ3EwUghpPnupHBi5gVN+3N3aRQwZfMbYUJX4ZkQimj4xM57CCi+tbyBXJY8pK0eIdkQhaPHlq7gwyNIH7U995agu54XOnTEZNovZ/iEI4yBUsmkHmBvGz1hsfXk0uOPxUFB1CJIIST34a/U109Lvx+gV1K/aQZRUTr+hFUYpIBB2ePDUriZbERRc9+g2yql/N8IUVZSiqIRJBgydPFdWdhqZTfjKLLCo85vGGAUVoOq5qFxEICjx56vC6o9F1/vmOrCmvuqZ7DLou2UUUQuY8eWpa3WDUeUd2lA+aMOeIfijrIRIhU558dcEdhOAd2VBRO4+xaOveQyRChjz56oarCaL3tAeJXcnILdeMKUBdchSRCBnx5K26Mwmj4IIHiVtZ2Y8PG15AABOJRMiEJ19V1x1PKNMWzCZelUdeP7mcEDrXEImQAU8ojrBOqBtOOJuJlUuO/bephLH9PSIR0ufJV2f/lJBm/bSB+JQO+OLJJxKEX//6/zpPBEK6PME4wrrmewR1WN1UYlN8/LmfH0UYv52zssMThZAmT9668zwC20BcKiumzPoagbSt/9UOohHS4gnIEdIhdScR2sy6/yMWySnfGTyJUGT+HiIS0uHJW0ffN4rg2nYQj2kzT0oQzMMbuohISIMnJEdIg0cRXtnZywkvWTlt5nTCWf7LN4hKiMyTxw65gjhcuuFHBHfIvGETCajsKSITDi6HnUAcejcTXMVRY0Y5AvIVRCZE5clnlxKLgln3E1jhEbdXOgJKrSggMiEiT2COgMacTjy+8l8XENSAQ28qLSGk5360ksiEaDyBOUIakyQmszbcQEhy9/hiAtqz8to1nUQmROIJzBFUKlVITK5vqCOgr9U6AupcdXpzK9EJOcURVl8hsbmn4VnC2eQIqM1dt7ODNAi5xBHYUw/9HbG55/Fn7yOQ/nWE1HTpMx2kQzi4jCQ+1RfN3vAiYbS8dCrh9LyxsY20CDnEEVp1LXFK1E3dQhi7CcZvfv36t0mPkDMc4TVccRNxGjhwC0EkCglmye2bNnWSHiFXOOKQIlb9E4TR98TX+xNE96/veq6DdAmROE8gjlgsba4kRutWEci6boJo//XFOztIm5AbHPF4Z+0UYrQlRSB7nvp6BQHsvrmxnfQJ0ThPXutYO4UYVVXsJozXFp5YUIa25q6nt7eTASEi59HniM3M6mOJT+NuQnn2rGvGV6Grc/XVrb8hE0JUzqPNEZ/emc8dQmy+tGA2gXQ++63F/Seh6tX5z6XIiBCZw6PKEad1sx8hPhc23Eggnc0zav/5xCL03H/vEjIkpMF5FDni9ShxuqFXtrzY/2UC6Oh4vIxj+6OipW9d08+XkCkhHc6jxBE/54nRXGjv+vxagnhg52J0dJzZunkHGRMOQs4Tq9IdOwikdcNgNPQ81VyPAiGrHFnhPLEaMKiZMFrK0PDmltveRIOQRY6s6S0gPitnriWQbW+NTZCpFRvnrWzuRoOQFufJmCN73Gn3O2Lz768TSseC8WPJ0ON3LW/sQIeQLY5senDmImIz/6WtBNL5VjeZ6Xp48RLUCFniyK57a77yN8Tkrq0EM6iPzDz9g9+iR8gOR7bdeONZPyMW/zSPcLrKycSelTc0dKFHyApHDrin5vvE4JZ5hOPad5OB1vqZLXtQJGSDIydcV/2lGoK7jID8kFLS1150XVMKTUIWOHLErOTV1xKYI6i+EaRv02Uvp1AlHNS6v1tzDiE5QlszibQ1b2pFl3CQO3f5kDkE4wgtQQaqWlEmHOxu5Y0B8wnDEVxjkrT1LC9BmRA/R255gJozqgnAEV5ZF2l74/EVKBMMXHXduReOLgNSheyTKiRzjhiUFHtHWvwbjQ+jTYibIwe13z7vlH8ZtrPwqqOqU8OmNq5eOGJy8kJ+78mT1iZH0lFCJI44uF19jrTUN/3HW4VoE+LlyFH+kUcqmwtTS52noq+Vvd5J/MA7YO5VQ1K7pgzcOe4IrmS/OWLhK3pIQ++KTQtfbdmDOiFOjlzWTAo87Gafm3i3Z/EjHc/MZxssg2XwbuqO7uRjJ/OpvAMcMSmtJg1PLnyhqYcAhBg58ssidi7lw25ne8uhi27+Vz7Zuh13Llj75jeJS9v2/kTVc9/9jxGGEB9H3lnKn/kFcNlmV3F0efs0GsvK6UvwgfmdT7/YnGp6uZHYlO0mslV1vyQQwUR2C1DceffzT6SOrei5uyf5xAmNfSPpKrpqLr+zhBjt6kdUexpW9hCIEBvHgaSTc4GHoLH9r/5zsGytHdY8bDHxa2snorb225oIRYiL48D0JM+zHerryYqhSaLpWrrwVz2EIsTEYULoLCOaJ+98lHCEeDhMCC71zDlE0PvgQ48RkJAe54nCYYLwDUuOG83+W3HLq56ABJPXul5YNpr9tnPLJk9IQpqcZ/85TCB+z72Tx7Kf2rZ9dytBCTFwmGDaX1hzeIL90bH7lYVveoIS0uU8+8dhQmr7XvkXC/hMnTvevOOt1QQmpM159oPDhNW5/trZ06WST7W8Ys2tDasJTkifw/PpHCa8Xa/uvHfOUcV8sld2LHi7q6GX8IRMOM+ncJhYdK5albpjxxTv+Kj27S3d6x9YmmolFkJGHJ6P5TBxevWEqdNPkX54xx+1FqztLFv9w/dK17X1EBMhQw7Pn3KY2DU3L37hF+cN6J9sndyXYNuQ3g3tVS/WrS9qcu96YiRkzLGXZx+HyZLe9RuXdRzaVXrcjuJ3n164eUlXipXETtDhMNnWu5HtUM9e5+A82SCYA5InKwRj9AjG6BGM0SMYo0cwRo9gjB7BGD2CMXoEY/QIxugRjNEjGKNHMEaPYIwewRg9gjF6BGP0CMboEYzRIxijRzBGj2CMHsEYPYIxegRj9AjG6BGM0SMYo0cwRo9gjB7BGD2CMXoEY/QIxugRjNEjGKNHMEaPYIwewRg9gjF6BGP0CMboEYzRIxijRzBGj2CMHsEYPYIxegRj9AjG6Pl/O4BwD50pZoQAAAAASUVORK5C\">"
      ],
      "text/plain": [
       "197×591 MosaicView{Gray{Float64}, 4, Base.ReshapedArray{Gray{Float64}, 4, PaddedView{Gray{Float64}, 3, Tuple{Base.OneTo{Int64}, Base.OneTo{Int64}, Base.OneTo{Int64}}, StackViews.StackView{Gray{Float64}, 3, 3, Vector{OffsetMatrix{Gray{Float64}, PaddedView{Gray{Float64}, 2, Tuple{Base.IdentityUnitRange{UnitRange{Int64}}, Base.IdentityUnitRange{UnitRange{Int64}}}, Matrix{Gray{Float64}}}}}}}, Tuple{Base.MultiplicativeInverses.SignedMultiplicativeInverse{Int64}, Base.MultiplicativeInverses.SignedMultiplicativeInverse{Int64}}}}:\n",
       " Gray{Float64}(0.0)  Gray{Float64}(0.0)  …  Gray{Float64}(NaN)\n",
       " Gray{Float64}(0.0)  Gray{Float64}(0.0)     Gray{Float64}(NaN)\n",
       " Gray{Float64}(0.0)  Gray{Float64}(0.0)     Gray{Float64}(NaN)\n",
       " Gray{Float64}(0.0)  Gray{Float64}(0.0)     Gray{Float64}(NaN)\n",
       " Gray{Float64}(0.0)  Gray{Float64}(0.0)     Gray{Float64}(NaN)\n",
       " Gray{Float64}(0.0)  Gray{Float64}(0.0)  …  Gray{Float64}(NaN)\n",
       " Gray{Float64}(0.0)  Gray{Float64}(0.0)     Gray{Float64}(NaN)\n",
       " Gray{Float64}(0.0)  Gray{Float64}(0.0)     Gray{Float64}(NaN)\n",
       " Gray{Float64}(0.0)  Gray{Float64}(0.0)     Gray{Float64}(NaN)\n",
       " Gray{Float64}(0.0)  Gray{Float64}(0.0)     Gray{Float64}(NaN)\n",
       " Gray{Float64}(0.0)  Gray{Float64}(0.0)  …  Gray{Float64}(NaN)\n",
       " Gray{Float64}(0.0)  Gray{Float64}(0.0)     Gray{Float64}(NaN)\n",
       " Gray{Float64}(0.0)  Gray{Float64}(0.0)     Gray{Float64}(NaN)\n",
       " ⋮                                       ⋱  ⋮\n",
       " Gray{Float64}(0.0)  Gray{Float64}(0.0)  …  Gray{Float64}(NaN)\n",
       " Gray{Float64}(0.0)  Gray{Float64}(0.0)     Gray{Float64}(NaN)\n",
       " Gray{Float64}(0.0)  Gray{Float64}(0.0)     Gray{Float64}(NaN)\n",
       " Gray{Float64}(0.0)  Gray{Float64}(0.0)     Gray{Float64}(NaN)\n",
       " Gray{Float64}(0.0)  Gray{Float64}(0.0)     Gray{Float64}(NaN)\n",
       " Gray{Float64}(0.0)  Gray{Float64}(0.0)  …  Gray{Float64}(NaN)\n",
       " Gray{Float64}(0.0)  Gray{Float64}(0.0)     Gray{Float64}(NaN)\n",
       " Gray{Float64}(0.0)  Gray{Float64}(0.0)     Gray{Float64}(NaN)\n",
       " Gray{Float64}(0.0)  Gray{Float64}(0.0)     Gray{Float64}(NaN)\n",
       " Gray{Float64}(0.0)  Gray{Float64}(0.0)     Gray{Float64}(NaN)\n",
       " Gray{Float64}(0.0)  Gray{Float64}(0.0)  …  Gray{Float64}(NaN)\n",
       " Gray{Float64}(0.0)  Gray{Float64}(0.0)     Gray{Float64}(NaN)"
      ]
     },
     "execution_count": 213,
     "metadata": {},
     "output_type": "execute_result"
    }
   ],
   "source": [
    "rotation = 50\n",
    "imrotated = collect(imrotate(init_floe, deg2rad(rotation)));\n",
    "mm, estimated_rotation = mismatch(init_floe, imrotated)\n",
    "imrotated2 = collect(imrotate(imrotated, deg2rad(-estimated_rotation)));\n",
    "Images.mosaicview([Gray.(init_floe), Gray.(imrotated), Gray.(imrotated2)], nrow=1)"
   ]
  },
  {
   "cell_type": "code",
   "execution_count": 187,
   "id": "5873f8ea-e7f7-4864-a271-3be06efcc86f",
   "metadata": {},
   "outputs": [
    {
     "data": {
      "text/plain": [
       "(0.04796925126597019, 4.587694576707014)"
      ]
     },
     "execution_count": 187,
     "metadata": {},
     "output_type": "execute_result"
    }
   ],
   "source": [
    "mm, estimated_rotation = mismatch(im_scaled, im_scaled_rotated)\n",
    "mm, estimated_rotation"
   ]
  },
  {
   "cell_type": "code",
   "execution_count": 208,
   "id": "a9f7957d-2fc4-4537-928a-8a33296068f3",
   "metadata": {},
   "outputs": [
    {
     "data": {
      "text/plain": [
       "((93, 105), (141, 139), (197, 197))"
      ]
     },
     "execution_count": 208,
     "metadata": {},
     "output_type": "execute_result"
    }
   ],
   "source": [
    "size(init_floe), size(imrotated), size(imrotated2)"
   ]
  },
  {
   "cell_type": "code",
   "execution_count": 165,
   "id": "261131ef-1ca7-48cc-864b-305f8a113310",
   "metadata": {},
   "outputs": [
    {
     "data": {
      "text/plain": [
       "287"
      ]
     },
     "execution_count": 165,
     "metadata": {},
     "output_type": "execute_result"
    }
   ],
   "source": [
    "sum(greaterthan05(imgw))"
   ]
  },
  {
   "cell_type": "code",
   "execution_count": 170,
   "id": "cceadc0d-8736-4ec0-8e71-7d3fcf108781",
   "metadata": {},
   "outputs": [
    {
     "data": {
      "text/plain": [
       "6219"
      ]
     },
     "execution_count": 170,
     "metadata": {},
     "output_type": "execute_result"
    }
   ],
   "source": [
    "sum(greaterthan05(imrotate(props[12,:mask], 0)))"
   ]
  },
  {
   "cell_type": "code",
   "execution_count": 307,
   "id": "02dcee40-76d0-4a74-9ec0-426a788136e2",
   "metadata": {},
   "outputs": [
    {
     "data": {
      "text/latex": [
       "\\begin{quote}\n",
       "\\textbf{warning}\n",
       "\n",
       "Warning\n",
       "\n",
       "The following bindings may be internal; they may change or be removed in future versions:\n",
       "\n",
       "\\begin{itemize}\n",
       "\\item \\texttt{IceFloeTracker.buildψs}\n",
       "\n",
       "\\end{itemize}\n",
       "\\end{quote}\n",
       "No documentation found for private symbol.\n",
       "\n",
       "\\texttt{IceFloeTracker.buildψs} is a \\texttt{Function}.\n",
       "\n",
       "\\begin{verbatim}\n",
       "# 1 method for generic function \"buildψs\" from IceFloeTracker:\n",
       " [1] buildψs(floe)\n",
       "     @ ~/.julia/packages/IceFloeTracker/6ObKZ/src/tracker/tracker-funcs.jl:519\n",
       "\\end{verbatim}\n"
      ],
      "text/markdown": [
       "!!! warning\n",
       "    The following bindings may be internal; they may change or be removed in future versions:\n",
       "\n",
       "      * `IceFloeTracker.buildψs`\n",
       "\n",
       "\n",
       "No documentation found for private symbol.\n",
       "\n",
       "`IceFloeTracker.buildψs` is a `Function`.\n",
       "\n",
       "```\n",
       "# 1 method for generic function \"buildψs\" from IceFloeTracker:\n",
       " [1] buildψs(floe)\n",
       "     @ ~/.julia/packages/IceFloeTracker/6ObKZ/src/tracker/tracker-funcs.jl:519\n",
       "```\n"
      ],
      "text/plain": [
       "\u001b[33m\u001b[1m  │ \u001b[22m\u001b[39m\u001b[33m\u001b[1mWarning\u001b[22m\u001b[39m\n",
       "\u001b[33m\u001b[1m  │\u001b[22m\u001b[39m\n",
       "\u001b[33m\u001b[1m  │\u001b[22m\u001b[39m  The following bindings may be internal; they may change or be\n",
       "\u001b[33m\u001b[1m  │\u001b[22m\u001b[39m  removed in future versions:\n",
       "\u001b[33m\u001b[1m  │\u001b[22m\u001b[39m\n",
       "\u001b[33m\u001b[1m  │\u001b[22m\u001b[39m    •  \u001b[36mIceFloeTracker.buildψs\u001b[39m\n",
       "\n",
       "  No documentation found for private symbol.\n",
       "\n",
       "  \u001b[36mIceFloeTracker.buildψs\u001b[39m is a \u001b[36mFunction\u001b[39m.\n",
       "\n",
       "\u001b[36m  # 1 method for generic function \"buildψs\" from IceFloeTracker:\u001b[39m\n",
       "\u001b[36m   [1] buildψs(floe)\u001b[39m\n",
       "\u001b[36m       @ ~/.julia/packages/IceFloeTracker/6ObKZ/src/tracker/tracker-funcs.jl:519\u001b[39m"
      ]
     },
     "execution_count": 307,
     "metadata": {},
     "output_type": "execute_result"
    }
   ],
   "source": []
  },
  {
   "cell_type": "code",
   "execution_count": null,
   "id": "38a28692-d6a6-4a53-9d6e-4de5fec72ac6",
   "metadata": {},
   "outputs": [],
   "source": []
  }
 ],
 "metadata": {
  "kernelspec": {
   "display_name": "Julia 1.11.4",
   "language": "julia",
   "name": "julia-1.11"
  },
  "language_info": {
   "file_extension": ".jl",
   "mimetype": "application/julia",
   "name": "julia",
   "version": "1.11.4"
  }
 },
 "nbformat": 4,
 "nbformat_minor": 5
}
