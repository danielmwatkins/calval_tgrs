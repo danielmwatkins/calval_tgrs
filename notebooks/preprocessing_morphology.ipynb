{
 "cells": [
  {
   "cell_type": "markdown",
   "id": "3d72d1ac-a16c-4ec9-a441-951c10d5da9a",
   "metadata": {},
   "source": [
    "# Preprocessing: morphological operations\n",
    "* Grayscale morphology: markers and masks\n",
    "* Grayscale morphology: H-domes"
   ]
  },
  {
   "cell_type": "code",
   "execution_count": 1,
   "id": "791d2c21-8a9e-45dc-a5f7-35b014d05542",
   "metadata": {},
   "outputs": [
    {
     "name": "stderr",
     "output_type": "stream",
     "text": [
      "\u001b[32m\u001b[1m  Activating\u001b[22m\u001b[39m new project at `~/Documents/research/calval_tgrs/scripts/cal-val`\n"
     ]
    },
    {
     "ename": "LoadError",
     "evalue": "ArgumentError: Package IceFloeTracker not found in current path.\n- Run `import Pkg; Pkg.add(\"IceFloeTracker\")` to install the IceFloeTracker package.",
     "output_type": "error",
     "traceback": [
      "ArgumentError: Package IceFloeTracker not found in current path.\n- Run `import Pkg; Pkg.add(\"IceFloeTracker\")` to install the IceFloeTracker package.",
      "",
      "Stacktrace:",
      " [1] macro expansion",
      "   @ ./loading.jl:2296 [inlined]",
      " [2] macro expansion",
      "   @ ./lock.jl:273 [inlined]",
      " [3] __require(into::Module, mod::Symbol)",
      "   @ Base ./loading.jl:2271",
      " [4] #invoke_in_world#3",
      "   @ ./essentials.jl:1089 [inlined]",
      " [5] invoke_in_world",
      "   @ ./essentials.jl:1086 [inlined]",
      " [6] require(into::Module, mod::Symbol)",
      "   @ Base ./loading.jl:2260"
     ]
    }
   ],
   "source": [
    "using Pkg\n",
    "Pkg.activate(\"../scripts/cal-val/\")\n",
    "using Images\n",
    "using IceFloeTracker\n",
    "using CSV\n",
    "using CairoMakie\n",
    "using DataFrames\n",
    "using Peaks\n",
    "\n",
    "df = DataFrame(CSV.File(\"../data/validation_dataset_testtrain_split.csv\"));\n",
    "df_training = copy(df[df.training,:]);\n",
    "\n",
    "clear_sky_training_cases = df_training[df_training.cloud_fraction_manual .< 0.25  .&& (df_training.visible_sea_ice .== \"yes\"), [:case_number, :satellite]];"
   ]
  },
  {
   "cell_type": "code",
   "execution_count": null,
   "id": "419d6a63-b20d-4ba9-bb5e-ec5094d44d04",
   "metadata": {},
   "outputs": [],
   "source": []
  }
 ],
 "metadata": {
  "kernelspec": {
   "display_name": "Julia 1.11.6",
   "language": "julia",
   "name": "julia-1.11"
  },
  "language_info": {
   "file_extension": ".jl",
   "mimetype": "application/julia",
   "name": "julia",
   "version": "1.11.6"
  }
 },
 "nbformat": 4,
 "nbformat_minor": 5
}
