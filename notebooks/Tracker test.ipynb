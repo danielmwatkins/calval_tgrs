{
 "cells": [
  {
   "cell_type": "markdown",
   "id": "541b7e20-7a7e-4cc0-9fd9-3b1bd6b4873c",
   "metadata": {},
   "source": [
    "# Testing the tracking function: Ellipse Test\n",
    "In this test of the tracker function, we're going to look at the ability of the tracker to find matches and accurately get the location and orientation of the \"floes\" as a function of area and eccentricity. Ellipses were generated with orientations from 0 to 9 degrees. We expect circles to fail to be tracked. All centroid positions will stay constant."
   ]
  },
  {
   "cell_type": "code",
   "execution_count": 5,
   "id": "65303b22-bad8-4069-b702-a90d89232254",
   "metadata": {},
   "outputs": [
    {
     "name": "stderr",
     "output_type": "stream",
     "text": [
      "\u001b[32m\u001b[1m  Activating\u001b[22m\u001b[39m project at `~/Documents/research/manuscripts/cal-val_ice_floe_tracker/calval_tgrs/notebooks/calval`\n"
     ]
    }
   ],
   "source": [
    "using Pkg;\n",
    "Pkg.activate(\"calval\")\n",
    "Pkg.precompile()"
   ]
  },
  {
   "cell_type": "code",
   "execution_count": 6,
   "id": "9ee6adf1-d9b2-47c5-982c-74881c893439",
   "metadata": {},
   "outputs": [],
   "source": [
    "using IceFloeTracker\n",
    "using DataFrames, Statistics, CSV, Dates"
   ]
  },
  {
   "cell_type": "markdown",
   "id": "80c53d59-3128-4cf0-9b76-0146a48bf4c6",
   "metadata": {},
   "source": [
    "Some questions:\n",
    "* Is load or loadimg preferred?\n",
    "* What is the best way in Julia to operate on a series of objects? List comprehension? For loop?"
   ]
  },
  {
   "cell_type": "code",
   "execution_count": 7,
   "id": "7179279a-1259-446c-b138-dce9c9ea1043",
   "metadata": {},
   "outputs": [
    {
     "data": {
      "text/plain": [
       "(search_thresholds = (dt = (30.0, 100.0, 1300.0), dist = (200, 250, 300)), small_floe_settings = (minimumarea = 100, arearatio = 0.18, majaxisratio = 0.1, minaxisratio = 0.15, convexarearatio = 0.2), large_floe_settings = (minimumarea = 1200, arearatio = 0.28, majaxisratio = 0.1, minaxisratio = 0.12, convexarearatio = 0.14))"
      ]
     },
     "execution_count": 7,
     "metadata": {},
     "output_type": "execute_result"
    }
   ],
   "source": [
    "# Set thresholds from file\n",
    "mc_thresholds = IceFloeTracker.mc_thresholds\n",
    "\n",
    "# Alternatively load the defaults:\n",
    "# condition_thresholds = IceFloeTracker.condition_thresholds\n",
    "ct = (search_thresholds = \n",
    "        (dt = (30.0, 100.0, 1300.0),\n",
    "         dist = (200, 250, 300)),\n",
    "      small_floe_settings = (minimumarea = 100,\n",
    "                             arearatio = 0.18,\n",
    "                             majaxisratio = 0.1,\n",
    "                             minaxisratio = 0.15,\n",
    "                             convexarearatio = 0.2),\n",
    "      large_floe_settings = (minimumarea = 1200,\n",
    "                             arearatio = 0.28,\n",
    "                             majaxisratio = 0.1,\n",
    "                             minaxisratio = 0.12,\n",
    "                             convexarearatio = 0.14))"
   ]
  },
  {
   "cell_type": "code",
   "execution_count": 8,
   "id": "7ad8c7f9-9b9a-4771-9e0d-3e389ffaa69c",
   "metadata": {},
   "outputs": [
    {
     "ename": "LoadError",
     "evalue": "PyError ($(Expr(:escape, :(ccall(#= /Users/dwatkin2/.julia/packages/PyCall/1gn3u/src/pyfncall.jl:43 =# @pysym(:PyObject_Call), PyPtr, (PyPtr, PyPtr, PyPtr), o, pyargsptr, kw))))) <class 'AttributeError'>\nAttributeError(\"'list' object has no attribute 'ndim'\")\n  File \"/Users/dwatkin2/.julia/conda/3/lib/python3.11/site-packages/skimage/measure/_regionprops.py\", line 1023, in regionprops_table\n  File \"/Users/dwatkin2/.julia/conda/3/lib/python3.11/site-packages/skimage/measure/_regionprops.py\", line 1295, in regionprops\n",
     "output_type": "error",
     "traceback": [
      "PyError ($(Expr(:escape, :(ccall(#= /Users/dwatkin2/.julia/packages/PyCall/1gn3u/src/pyfncall.jl:43 =# @pysym(:PyObject_Call), PyPtr, (PyPtr, PyPtr, PyPtr), o, pyargsptr, kw))))) <class 'AttributeError'>\nAttributeError(\"'list' object has no attribute 'ndim'\")\n  File \"/Users/dwatkin2/.julia/conda/3/lib/python3.11/site-packages/skimage/measure/_regionprops.py\", line 1023, in regionprops_table\n  File \"/Users/dwatkin2/.julia/conda/3/lib/python3.11/site-packages/skimage/measure/_regionprops.py\", line 1295, in regionprops\n",
      "",
      "Stacktrace:",
      "  [1] pyerr_check",
      "    @ ~/.julia/packages/PyCall/1gn3u/src/exception.jl:75 [inlined]",
      "  [2] pyerr_check",
      "    @ ~/.julia/packages/PyCall/1gn3u/src/exception.jl:79 [inlined]",
      "  [3] _handle_error(msg::String)",
      "    @ PyCall ~/.julia/packages/PyCall/1gn3u/src/exception.jl:96",
      "  [4] macro expansion",
      "    @ ~/.julia/packages/PyCall/1gn3u/src/exception.jl:110 [inlined]",
      "  [5] #107",
      "    @ ~/.julia/packages/PyCall/1gn3u/src/pyfncall.jl:43 [inlined]",
      "  [6] disable_sigint",
      "    @ ./c.jl:167 [inlined]",
      "  [7] __pycall!",
      "    @ ~/.julia/packages/PyCall/1gn3u/src/pyfncall.jl:42 [inlined]",
      "  [8] _pycall!(ret::PyCall.PyObject, o::PyCall.PyObject, args::Tuple{Matrix{Int64}, Nothing, NTuple{8, String}}, nargs::Int64, kw::PyCall.PyObject)",
      "    @ PyCall ~/.julia/packages/PyCall/1gn3u/src/pyfncall.jl:29",
      "  [9] _pycall!(ret::PyCall.PyObject, o::PyCall.PyObject, args::Tuple{Matrix{Int64}, Nothing, NTuple{8, String}}, kwargs::@Kwargs{extra_properties::Nothing})",
      "    @ PyCall ~/.julia/packages/PyCall/1gn3u/src/pyfncall.jl:11",
      " [10] (::PyCall.PyObject)(::Matrix{Int64}, ::Vararg{Any}; kwargs::@Kwargs{extra_properties::Nothing})",
      "    @ PyCall ~/.julia/packages/PyCall/1gn3u/src/pyfncall.jl:86",
      " [11] regionprops_table(label_img::Matrix{Int64}, intensity_img::Nothing; properties::NTuple{8, String}, extra_properties::Nothing)",
      "    @ IceFloeTracker ~/.julia/packages/IceFloeTracker/6ObKZ/src/regionprops.jl:81",
      " [12] regionprops_table (repeats 2 times)",
      "    @ ~/.julia/packages/IceFloeTracker/6ObKZ/src/regionprops.jl:61 [inlined]",
      " [13] _broadcast_getindex_evalf",
      "    @ ./broadcast.jl:678 [inlined]",
      " [14] _broadcast_getindex",
      "    @ ./broadcast.jl:651 [inlined]",
      " [15] getindex",
      "    @ ./broadcast.jl:610 [inlined]",
      " [16] macro expansion",
      "    @ ./broadcast.jl:973 [inlined]",
      " [17] macro expansion",
      "    @ ./simdloop.jl:77 [inlined]",
      " [18] copyto!",
      "    @ ./broadcast.jl:972 [inlined]",
      " [19] copyto!",
      "    @ ./broadcast.jl:925 [inlined]",
      " [20] copy",
      "    @ ./broadcast.jl:897 [inlined]",
      " [21] materialize(bc::Base.Broadcast.Broadcasted{Base.Broadcast.DefaultArrayStyle{1}, Nothing, typeof(regionprops_table), Tuple{Vector{Matrix{Int64}}}})",
      "    @ Base.Broadcast ./broadcast.jl:872",
      " [22] top-level scope",
      "    @ In[8]:10"
     ]
    }
   ],
   "source": [
    "# Load the images from file\n",
    "image_names = [\"ellipses_00\"*string(idx)*\"deg.png\" for idx in range(0, 9)];\n",
    "images = [IceFloeTracker.load(joinpath(\"../data/synthetic_ellipse_images/\", fname))\n",
    "            for fname in image_names];\n",
    "\n",
    "# Generate some fake dates\n",
    "passtimes = collect(Date(2019,3,1):Day(1):Date(2019,3,10))\n",
    "\n",
    "# Add labels and get region properties\n",
    "labeled_images = IceFloeTracker.label_components.(images);\n",
    "props = IceFloeTracker.regionprops_table.(labeled_images);"
   ]
  },
  {
   "cell_type": "markdown",
   "id": "a93dfdb6-dccd-4f28-97f2-3e64175962e2",
   "metadata": {},
   "source": [
    "To run the tracker, we need to add some additional information. Each object (floe) needs to be added into the dataframe, then we also need the psi-s curve summarizing the edge properties of each object."
   ]
  },
  {
   "cell_type": "code",
   "execution_count": 10,
   "id": "7a259e86-e689-4101-93a0-c2129eb12b07",
   "metadata": {},
   "outputs": [],
   "source": [
    "# add binary masks\n",
    "greaterthan0(x) = x .> 0\n",
    "IceFloeTracker.addfloemasks!(props, greaterthan0.(labeled_images));\n",
    "IceFloeTracker.add_passtimes!(props, passtimes);\n",
    "IceFloeTracker.addψs!(props);\n",
    "IceFloeTracker.adduuid!(props);"
   ]
  },
  {
   "cell_type": "markdown",
   "id": "107311b1-7fcd-453a-9d7f-2f5d9841f18f",
   "metadata": {},
   "source": [
    "# Test images: ellipses\n",
    "Shown below are two members of the test image set. These are ellipses ranging from circles on the left to an oblong shape on the right. We expect the tracker to fail to track the circles, and are looking for a minimum eccentricity where we can get the change in orientation with confidence.\n",
    "\n",
    "Each image has 40 ellipses on it, and we have a series of 10 images. If the floes were tracked perfectly, we'd have as dataframe at the end with 400 entries: 10 time steps for each of 40 floes."
   ]
  },
  {
   "cell_type": "code",
   "execution_count": 11,
   "id": "b5678b71-8f68-4a71-9b6d-c58721a8a4ff",
   "metadata": {},
   "outputs": [],
   "source": [
    "using Images: mosaicview"
   ]
  },
  {
   "cell_type": "code",
   "execution_count": 12,
   "id": "4db806ed-5f0c-400e-95eb-5f0f806eb771",
   "metadata": {},
   "outputs": [
    {
     "data": {
      "image/png": "[encoded data removed]",
      "text/html": [
       "<img src=\"data:image/png;base64,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\">"
      ],
      "text/plain": [
       "663×1760 MosaicViews.MosaicView{Gray{FixedPointNumbers.N0f8}, 4, Base.ReshapedArray{Gray{FixedPointNumbers.N0f8}, 4, PaddedViews.PaddedView{Gray{FixedPointNumbers.N0f8}, 3, Tuple{Base.OneTo{Int64}, Base.OneTo{Int64}, Base.OneTo{Int64}}, StackViews.StackView{Gray{FixedPointNumbers.N0f8}, 3, 3, Tuple{OffsetArrays.OffsetMatrix{Gray{FixedPointNumbers.N0f8}, PaddedViews.PaddedView{Gray{FixedPointNumbers.N0f8}, 2, Tuple{Base.IdentityUnitRange{UnitRange{Int64}}, Base.IdentityUnitRange{UnitRange{Int64}}}, Matrix{Gray{FixedPointNumbers.N0f8}}}}, OffsetArrays.OffsetMatrix{Gray{FixedPointNumbers.N0f8}, PaddedViews.PaddedView{Gray{FixedPointNumbers.N0f8}, 2, Tuple{Base.IdentityUnitRange{UnitRange{Int64}}, Base.IdentityUnitRange{UnitRange{Int64}}}, Matrix{Gray{FixedPointNumbers.N0f8}}}}}}}, Tuple{Base.MultiplicativeInverses.SignedMultiplicativeInverse{Int64}, Base.MultiplicativeInverses.SignedMultiplicativeInverse{Int64}}}}:\n",
       " Gray{N0f8}(0.0)  Gray{N0f8}(0.0)  …  Gray{N0f8}(0.0)  Gray{N0f8}(0.0)\n",
       " Gray{N0f8}(0.0)  Gray{N0f8}(0.0)     Gray{N0f8}(0.0)  Gray{N0f8}(0.0)\n",
       " Gray{N0f8}(0.0)  Gray{N0f8}(0.0)     Gray{N0f8}(0.0)  Gray{N0f8}(0.0)\n",
       " Gray{N0f8}(0.0)  Gray{N0f8}(0.0)     Gray{N0f8}(0.0)  Gray{N0f8}(0.0)\n",
       " Gray{N0f8}(0.0)  Gray{N0f8}(0.0)     Gray{N0f8}(0.0)  Gray{N0f8}(0.0)\n",
       " Gray{N0f8}(0.0)  Gray{N0f8}(0.0)  …  Gray{N0f8}(0.0)  Gray{N0f8}(0.0)\n",
       " Gray{N0f8}(0.0)  Gray{N0f8}(0.0)     Gray{N0f8}(0.0)  Gray{N0f8}(0.0)\n",
       " Gray{N0f8}(0.0)  Gray{N0f8}(0.0)     Gray{N0f8}(0.0)  Gray{N0f8}(0.0)\n",
       " Gray{N0f8}(0.0)  Gray{N0f8}(0.0)     Gray{N0f8}(0.0)  Gray{N0f8}(0.0)\n",
       " Gray{N0f8}(0.0)  Gray{N0f8}(0.0)     Gray{N0f8}(0.0)  Gray{N0f8}(0.0)\n",
       " Gray{N0f8}(0.0)  Gray{N0f8}(0.0)  …  Gray{N0f8}(0.0)  Gray{N0f8}(0.0)\n",
       " Gray{N0f8}(0.0)  Gray{N0f8}(0.0)     Gray{N0f8}(0.0)  Gray{N0f8}(0.0)\n",
       " Gray{N0f8}(0.0)  Gray{N0f8}(0.0)     Gray{N0f8}(0.0)  Gray{N0f8}(0.0)\n",
       " ⋮                                 ⋱                   \n",
       " Gray{N0f8}(0.0)  Gray{N0f8}(0.0)     Gray{N0f8}(0.0)  Gray{N0f8}(0.0)\n",
       " Gray{N0f8}(0.0)  Gray{N0f8}(0.0)     Gray{N0f8}(0.0)  Gray{N0f8}(0.0)\n",
       " Gray{N0f8}(0.0)  Gray{N0f8}(0.0)     Gray{N0f8}(0.0)  Gray{N0f8}(0.0)\n",
       " Gray{N0f8}(0.0)  Gray{N0f8}(0.0)     Gray{N0f8}(0.0)  Gray{N0f8}(0.0)\n",
       " Gray{N0f8}(0.0)  Gray{N0f8}(0.0)  …  Gray{N0f8}(0.0)  Gray{N0f8}(0.0)\n",
       " Gray{N0f8}(0.0)  Gray{N0f8}(0.0)     Gray{N0f8}(0.0)  Gray{N0f8}(0.0)\n",
       " Gray{N0f8}(0.0)  Gray{N0f8}(0.0)     Gray{N0f8}(0.0)  Gray{N0f8}(0.0)\n",
       " Gray{N0f8}(0.0)  Gray{N0f8}(0.0)     Gray{N0f8}(0.0)  Gray{N0f8}(0.0)\n",
       " Gray{N0f8}(0.0)  Gray{N0f8}(0.0)     Gray{N0f8}(0.0)  Gray{N0f8}(0.0)\n",
       " Gray{N0f8}(0.0)  Gray{N0f8}(0.0)  …  Gray{N0f8}(0.0)  Gray{N0f8}(0.0)\n",
       " Gray{N0f8}(0.0)  Gray{N0f8}(0.0)     Gray{N0f8}(0.0)  Gray{N0f8}(0.0)\n",
       " Gray{N0f8}(0.0)  Gray{N0f8}(0.0)     Gray{N0f8}(0.0)  Gray{N0f8}(0.0)"
      ]
     },
     "execution_count": 12,
     "metadata": {},
     "output_type": "execute_result"
    }
   ],
   "source": [
    "mosaicview(images[1], images[9], npad=2, fillvalue=1, ncol=2)"
   ]
  },
  {
   "cell_type": "markdown",
   "id": "a8e2bff3-94ad-4d26-b228-9d4b7f6e5b96",
   "metadata": {},
   "source": [
    "Finally, we can run the tracker on the list of props matrices."
   ]
  },
  {
   "cell_type": "code",
   "execution_count": 13,
   "id": "0ee75a9a-7e64-4f88-8f80-f1764fdd20f4",
   "metadata": {},
   "outputs": [],
   "source": [
    "track_results = IceFloeTracker.long_tracker(props, ct, mc_thresholds);"
   ]
  },
  {
   "cell_type": "code",
   "execution_count": 56,
   "id": "be367e17-a5ef-455f-aa28-a77cc5a2e9bf",
   "metadata": {},
   "outputs": [
    {
     "name": "stdout",
     "output_type": "stream",
     "text": [
      "[\"ID\", \"area\", \"min_row\", \"min_col\", \"max_row\", \"max_col\", \"row_centroid\", \"col_centroid\", \"convex_area\", \"major_axis_length\", \"minor_axis_length\", \"orientation\", \"perimeter\", \"passtime\", \"area_mismatch\", \"corr\", \"eccentricity\"]"
     ]
    }
   ],
   "source": [
    "# Select the data columns (columns with scalars, not vectors or arrays)\n",
    "track_results[!, :eccentricity] = (1 .- track_results[!, :minor_axis_length].^2 ./ track_results[!, :major_axis_length].^2).^0.5\n",
    "data_columns = [n for n in names(track_results) if n != \"mask\" && n != \"psi\"];\n",
    "print(data_columns)\n",
    "\n"
   ]
  },
  {
   "cell_type": "code",
   "execution_count": 57,
   "id": "0aadd4a4-4830-4eb0-a9fc-fdcaa3cca6f6",
   "metadata": {},
   "outputs": [],
   "source": [
    "# Group by object ID so we can look at some things\n",
    "tr_gdf = groupby(track_results[!, data_columns], \"ID\");"
   ]
  },
  {
   "cell_type": "markdown",
   "id": "d85c3083-a56d-48b2-8e86-1548700decf8",
   "metadata": {},
   "source": [
    "We check the length of each of the tracked objects. Since there are 10 images, we expect the lengths to all be 10. However, we find that some objects were matched to others on the same day, which is a bug. Others were not tracked across all images. Out of 48 ellipses, 37 were tracked."
   ]
  },
  {
   "cell_type": "code",
   "execution_count": 58,
   "id": "83b863ce-3f72-4be1-8ea9-549ec99e65c1",
   "metadata": {},
   "outputs": [
    {
     "data": {
      "text/html": [
       "<div><div style = \"float: left;\"><span>37×2 DataFrame</span></div><div style = \"float: right;\"><span style = \"font-style: italic;\">12 rows omitted</span></div><div style = \"clear: both;\"></div></div><div class = \"data-frame\" style = \"overflow-x: scroll;\"><table class = \"data-frame\" style = \"margin-bottom: 6px;\"><thead><tr class = \"header\"><th class = \"rowNumber\" style = \"font-weight: bold; text-align: right;\">Row</th><th style = \"text-align: left;\">ID</th><th style = \"text-align: left;\">area_length</th></tr><tr class = \"subheader headerLastRow\"><th class = \"rowNumber\" style = \"font-weight: bold; text-align: right;\"></th><th title = \"Int64\" style = \"text-align: left;\">Int64</th><th title = \"Int64\" style = \"text-align: left;\">Int64</th></tr></thead><tbody><tr><td class = \"rowNumber\" style = \"font-weight: bold; text-align: right;\">1</td><td style = \"text-align: right;\">1</td><td style = \"text-align: right;\">14</td></tr><tr><td class = \"rowNumber\" style = \"font-weight: bold; text-align: right;\">2</td><td style = \"text-align: right;\">2</td><td style = \"text-align: right;\">10</td></tr><tr><td class = \"rowNumber\" style = \"font-weight: bold; text-align: right;\">3</td><td style = \"text-align: right;\">3</td><td style = \"text-align: right;\">12</td></tr><tr><td class = \"rowNumber\" style = \"font-weight: bold; text-align: right;\">4</td><td style = \"text-align: right;\">4</td><td style = \"text-align: right;\">10</td></tr><tr><td class = \"rowNumber\" style = \"font-weight: bold; text-align: right;\">5</td><td style = \"text-align: right;\">5</td><td style = \"text-align: right;\">10</td></tr><tr><td class = \"rowNumber\" style = \"font-weight: bold; text-align: right;\">6</td><td style = \"text-align: right;\">6</td><td style = \"text-align: right;\">10</td></tr><tr><td class = \"rowNumber\" style = \"font-weight: bold; text-align: right;\">7</td><td style = \"text-align: right;\">7</td><td style = \"text-align: right;\">11</td></tr><tr><td class = \"rowNumber\" style = \"font-weight: bold; text-align: right;\">8</td><td style = \"text-align: right;\">8</td><td style = \"text-align: right;\">10</td></tr><tr><td class = \"rowNumber\" style = \"font-weight: bold; text-align: right;\">9</td><td style = \"text-align: right;\">9</td><td style = \"text-align: right;\">10</td></tr><tr><td class = \"rowNumber\" style = \"font-weight: bold; text-align: right;\">10</td><td style = \"text-align: right;\">10</td><td style = \"text-align: right;\">10</td></tr><tr><td class = \"rowNumber\" style = \"font-weight: bold; text-align: right;\">11</td><td style = \"text-align: right;\">11</td><td style = \"text-align: right;\">10</td></tr><tr><td class = \"rowNumber\" style = \"font-weight: bold; text-align: right;\">12</td><td style = \"text-align: right;\">12</td><td style = \"text-align: right;\">10</td></tr><tr><td class = \"rowNumber\" style = \"font-weight: bold; text-align: right;\">13</td><td style = \"text-align: right;\">13</td><td style = \"text-align: right;\">10</td></tr><tr><td style = \"text-align: right;\">&vellip;</td><td style = \"text-align: right;\">&vellip;</td><td style = \"text-align: right;\">&vellip;</td></tr><tr><td class = \"rowNumber\" style = \"font-weight: bold; text-align: right;\">26</td><td style = \"text-align: right;\">26</td><td style = \"text-align: right;\">10</td></tr><tr><td class = \"rowNumber\" style = \"font-weight: bold; text-align: right;\">27</td><td style = \"text-align: right;\">27</td><td style = \"text-align: right;\">10</td></tr><tr><td class = \"rowNumber\" style = \"font-weight: bold; text-align: right;\">28</td><td style = \"text-align: right;\">28</td><td style = \"text-align: right;\">13</td></tr><tr><td class = \"rowNumber\" style = \"font-weight: bold; text-align: right;\">29</td><td style = \"text-align: right;\">29</td><td style = \"text-align: right;\">7</td></tr><tr><td class = \"rowNumber\" style = \"font-weight: bold; text-align: right;\">30</td><td style = \"text-align: right;\">30</td><td style = \"text-align: right;\">10</td></tr><tr><td class = \"rowNumber\" style = \"font-weight: bold; text-align: right;\">31</td><td style = \"text-align: right;\">31</td><td style = \"text-align: right;\">10</td></tr><tr><td class = \"rowNumber\" style = \"font-weight: bold; text-align: right;\">32</td><td style = \"text-align: right;\">32</td><td style = \"text-align: right;\">10</td></tr><tr><td class = \"rowNumber\" style = \"font-weight: bold; text-align: right;\">33</td><td style = \"text-align: right;\">33</td><td style = \"text-align: right;\">10</td></tr><tr><td class = \"rowNumber\" style = \"font-weight: bold; text-align: right;\">34</td><td style = \"text-align: right;\">34</td><td style = \"text-align: right;\">10</td></tr><tr><td class = \"rowNumber\" style = \"font-weight: bold; text-align: right;\">35</td><td style = \"text-align: right;\">35</td><td style = \"text-align: right;\">10</td></tr><tr><td class = \"rowNumber\" style = \"font-weight: bold; text-align: right;\">36</td><td style = \"text-align: right;\">36</td><td style = \"text-align: right;\">9</td></tr><tr><td class = \"rowNumber\" style = \"font-weight: bold; text-align: right;\">37</td><td style = \"text-align: right;\">37</td><td style = \"text-align: right;\">10</td></tr></tbody></table></div>"
      ],
      "text/latex": [
       "\\begin{tabular}{r|cc}\n",
       "\t& ID & area\\_length\\\\\n",
       "\t\\hline\n",
       "\t& Int64 & Int64\\\\\n",
       "\t\\hline\n",
       "\t1 & 1 & 14 \\\\\n",
       "\t2 & 2 & 10 \\\\\n",
       "\t3 & 3 & 12 \\\\\n",
       "\t4 & 4 & 10 \\\\\n",
       "\t5 & 5 & 10 \\\\\n",
       "\t6 & 6 & 10 \\\\\n",
       "\t7 & 7 & 11 \\\\\n",
       "\t8 & 8 & 10 \\\\\n",
       "\t9 & 9 & 10 \\\\\n",
       "\t10 & 10 & 10 \\\\\n",
       "\t11 & 11 & 10 \\\\\n",
       "\t12 & 12 & 10 \\\\\n",
       "\t13 & 13 & 10 \\\\\n",
       "\t14 & 14 & 10 \\\\\n",
       "\t15 & 15 & 8 \\\\\n",
       "\t16 & 16 & 12 \\\\\n",
       "\t17 & 17 & 6 \\\\\n",
       "\t18 & 18 & 11 \\\\\n",
       "\t19 & 19 & 9 \\\\\n",
       "\t20 & 20 & 10 \\\\\n",
       "\t21 & 21 & 14 \\\\\n",
       "\t22 & 22 & 5 \\\\\n",
       "\t23 & 23 & 9 \\\\\n",
       "\t24 & 24 & 10 \\\\\n",
       "\t25 & 25 & 10 \\\\\n",
       "\t26 & 26 & 10 \\\\\n",
       "\t27 & 27 & 10 \\\\\n",
       "\t28 & 28 & 13 \\\\\n",
       "\t29 & 29 & 7 \\\\\n",
       "\t30 & 30 & 10 \\\\\n",
       "\t$\\dots$ & $\\dots$ & $\\dots$ \\\\\n",
       "\\end{tabular}\n"
      ],
      "text/plain": [
       "\u001b[1m37×2 DataFrame\u001b[0m\n",
       "\u001b[1m Row \u001b[0m│\u001b[1m ID    \u001b[0m\u001b[1m area_length \u001b[0m\n",
       "     │\u001b[90m Int64 \u001b[0m\u001b[90m Int64       \u001b[0m\n",
       "─────┼────────────────────\n",
       "   1 │     1           14\n",
       "   2 │     2           10\n",
       "   3 │     3           12\n",
       "   4 │     4           10\n",
       "   5 │     5           10\n",
       "   6 │     6           10\n",
       "   7 │     7           11\n",
       "   8 │     8           10\n",
       "   9 │     9           10\n",
       "  10 │    10           10\n",
       "  11 │    11           10\n",
       "  ⋮  │   ⋮         ⋮\n",
       "  28 │    28           13\n",
       "  29 │    29            7\n",
       "  30 │    30           10\n",
       "  31 │    31           10\n",
       "  32 │    32           10\n",
       "  33 │    33           10\n",
       "  34 │    34           10\n",
       "  35 │    35           10\n",
       "  36 │    36            9\n",
       "  37 │    37           10\n",
       "\u001b[36m           16 rows omitted\u001b[0m"
      ]
     },
     "execution_count": 58,
     "metadata": {},
     "output_type": "execute_result"
    }
   ],
   "source": [
    "combine(tr_gdf, \"area\" .=> length)"
   ]
  },
  {
   "cell_type": "markdown",
   "id": "e54587f3-b7f9-46d8-983e-acd212fc647d",
   "metadata": {},
   "source": [
    "Since these objects are rotated, not displaced, we can find where mismatches happened by looking for variation in the centroids. We find that the tracker can retrieve the right row (area) without issue, but sometimes fails to find the right column (eccentricity). "
   ]
  },
  {
   "cell_type": "code",
   "execution_count": 59,
   "id": "33c2b7de-cc8f-4d39-95d9-08b62eccf06b",
   "metadata": {},
   "outputs": [
    {
     "data": {
      "text/html": [
       "<div><div style = \"float: left;\"><span>37×5 DataFrame</span></div><div style = \"float: right;\"><span style = \"font-style: italic;\">12 rows omitted</span></div><div style = \"clear: both;\"></div></div><div class = \"data-frame\" style = \"overflow-x: scroll;\"><table class = \"data-frame\" style = \"margin-bottom: 6px;\"><thead><tr class = \"header\"><th class = \"rowNumber\" style = \"font-weight: bold; text-align: right;\">Row</th><th style = \"text-align: left;\">ID</th><th style = \"text-align: left;\">area_mean</th><th style = \"text-align: left;\">eccentricity_mean</th><th style = \"text-align: left;\">col_centroid_std</th><th style = \"text-align: left;\">row_centroid_std</th></tr><tr class = \"subheader headerLastRow\"><th class = \"rowNumber\" style = \"font-weight: bold; text-align: right;\"></th><th title = \"Int64\" style = \"text-align: left;\">Int64</th><th title = \"Float64\" style = \"text-align: left;\">Float64</th><th title = \"Float64\" style = \"text-align: left;\">Float64</th><th title = \"Float64\" style = \"text-align: left;\">Float64</th><th title = \"Float64\" style = \"text-align: left;\">Float64</th></tr></thead><tbody><tr><td class = \"rowNumber\" style = \"font-weight: bold; text-align: right;\">1</td><td style = \"text-align: right;\">1</td><td style = \"text-align: right;\">315.286</td><td style = \"text-align: right;\">0.457807</td><td style = \"text-align: right;\">50.6312</td><td style = \"text-align: right;\">0.0</td></tr><tr><td class = \"rowNumber\" style = \"font-weight: bold; text-align: right;\">2</td><td style = \"text-align: right;\">2</td><td style = \"text-align: right;\">1248.6</td><td style = \"text-align: right;\">0.0</td><td style = \"text-align: right;\">0.0</td><td style = \"text-align: right;\">0.0</td></tr><tr><td class = \"rowNumber\" style = \"font-weight: bold; text-align: right;\">3</td><td style = \"text-align: right;\">3</td><td style = \"text-align: right;\">1950.17</td><td style = \"text-align: right;\">0.0576926</td><td style = \"text-align: right;\">42.0389</td><td style = \"text-align: right;\">0.0</td></tr><tr><td class = \"rowNumber\" style = \"font-weight: bold; text-align: right;\">4</td><td style = \"text-align: right;\">4</td><td style = \"text-align: right;\">2825.2</td><td style = \"text-align: right;\">0.514141</td><td style = \"text-align: right;\">0.0</td><td style = \"text-align: right;\">0.0</td></tr><tr><td class = \"rowNumber\" style = \"font-weight: bold; text-align: right;\">5</td><td style = \"text-align: right;\">5</td><td style = \"text-align: right;\">1957.0</td><td style = \"text-align: right;\">0.717817</td><td style = \"text-align: right;\">0.0</td><td style = \"text-align: right;\">0.0</td></tr><tr><td class = \"rowNumber\" style = \"font-weight: bold; text-align: right;\">6</td><td style = \"text-align: right;\">6</td><td style = \"text-align: right;\">704.2</td><td style = \"text-align: right;\">0.0801894</td><td style = \"text-align: right;\">0.0</td><td style = \"text-align: right;\">0.0</td></tr><tr><td class = \"rowNumber\" style = \"font-weight: bold; text-align: right;\">7</td><td style = \"text-align: right;\">7</td><td style = \"text-align: right;\">1963.0</td><td style = \"text-align: right;\">0.508669</td><td style = \"text-align: right;\">32.5632</td><td style = \"text-align: right;\">0.0</td></tr><tr><td class = \"rowNumber\" style = \"font-weight: bold; text-align: right;\">8</td><td style = \"text-align: right;\">8</td><td style = \"text-align: right;\">311.4</td><td style = \"text-align: right;\">0.237925</td><td style = \"text-align: right;\">55.771</td><td style = \"text-align: right;\">0.0</td></tr><tr><td class = \"rowNumber\" style = \"font-weight: bold; text-align: right;\">9</td><td style = \"text-align: right;\">9</td><td style = \"text-align: right;\">2816.2</td><td style = \"text-align: right;\">0.0401222</td><td style = \"text-align: right;\">0.0</td><td style = \"text-align: right;\">0.0</td></tr><tr><td class = \"rowNumber\" style = \"font-weight: bold; text-align: right;\">10</td><td style = \"text-align: right;\">10</td><td style = \"text-align: right;\">313.0</td><td style = \"text-align: right;\">0.647339</td><td style = \"text-align: right;\">0.0</td><td style = \"text-align: right;\">0.0</td></tr><tr><td class = \"rowNumber\" style = \"font-weight: bold; text-align: right;\">11</td><td style = \"text-align: right;\">11</td><td style = \"text-align: right;\">1256.8</td><td style = \"text-align: right;\">0.800441</td><td style = \"text-align: right;\">0.0</td><td style = \"text-align: right;\">0.0</td></tr><tr><td class = \"rowNumber\" style = \"font-weight: bold; text-align: right;\">12</td><td style = \"text-align: right;\">12</td><td style = \"text-align: right;\">1259.8</td><td style = \"text-align: right;\">0.948344</td><td style = \"text-align: right;\">0.0</td><td style = \"text-align: right;\">0.0</td></tr><tr><td class = \"rowNumber\" style = \"font-weight: bold; text-align: right;\">13</td><td style = \"text-align: right;\">13</td><td style = \"text-align: right;\">2825.4</td><td style = \"text-align: right;\">0.948861</td><td style = \"text-align: right;\">0.0</td><td style = \"text-align: right;\">0.0</td></tr><tr><td style = \"text-align: right;\">&vellip;</td><td style = \"text-align: right;\">&vellip;</td><td style = \"text-align: right;\">&vellip;</td><td style = \"text-align: right;\">&vellip;</td><td style = \"text-align: right;\">&vellip;</td><td style = \"text-align: right;\">&vellip;</td></tr><tr><td class = \"rowNumber\" style = \"font-weight: bold; text-align: right;\">26</td><td style = \"text-align: right;\">26</td><td style = \"text-align: right;\">704.0</td><td style = \"text-align: right;\">0.530537</td><td style = \"text-align: right;\">0.0</td><td style = \"text-align: right;\">0.0</td></tr><tr><td class = \"rowNumber\" style = \"font-weight: bold; text-align: right;\">27</td><td style = \"text-align: right;\">27</td><td style = \"text-align: right;\">1966.6</td><td style = \"text-align: right;\">0.948617</td><td style = \"text-align: right;\">0.0</td><td style = \"text-align: right;\">0.0</td></tr><tr><td class = \"rowNumber\" style = \"font-weight: bold; text-align: right;\">28</td><td style = \"text-align: right;\">28</td><td style = \"text-align: right;\">2827.77</td><td style = \"text-align: right;\">0.734576</td><td style = \"text-align: right;\">47.3611</td><td style = \"text-align: right;\">0.0</td></tr><tr><td class = \"rowNumber\" style = \"font-weight: bold; text-align: right;\">29</td><td style = \"text-align: right;\">29</td><td style = \"text-align: right;\">2830.71</td><td style = \"text-align: right;\">0.800412</td><td style = \"text-align: right;\">0.0</td><td style = \"text-align: right;\">0.0</td></tr><tr><td class = \"rowNumber\" style = \"font-weight: bold; text-align: right;\">30</td><td style = \"text-align: right;\">30</td><td style = \"text-align: right;\">709.6</td><td style = \"text-align: right;\">0.877494</td><td style = \"text-align: right;\">0.0</td><td style = \"text-align: right;\">0.0</td></tr><tr><td class = \"rowNumber\" style = \"font-weight: bold; text-align: right;\">31</td><td style = \"text-align: right;\">31</td><td style = \"text-align: right;\">2824.8</td><td style = \"text-align: right;\">0.61948</td><td style = \"text-align: right;\">0.0</td><td style = \"text-align: right;\">0.0</td></tr><tr><td class = \"rowNumber\" style = \"font-weight: bold; text-align: right;\">32</td><td style = \"text-align: right;\">32</td><td style = \"text-align: right;\">1966.8</td><td style = \"text-align: right;\">0.80181</td><td style = \"text-align: right;\">0.0</td><td style = \"text-align: right;\">0.0</td></tr><tr><td class = \"rowNumber\" style = \"font-weight: bold; text-align: right;\">33</td><td style = \"text-align: right;\">33</td><td style = \"text-align: right;\">707.4</td><td style = \"text-align: right;\">0.948679</td><td style = \"text-align: right;\">0.0</td><td style = \"text-align: right;\">0.0</td></tr><tr><td class = \"rowNumber\" style = \"font-weight: bold; text-align: right;\">34</td><td style = \"text-align: right;\">34</td><td style = \"text-align: right;\">706.2</td><td style = \"text-align: right;\">0.581264</td><td style = \"text-align: right;\">68.3052</td><td style = \"text-align: right;\">0.0</td></tr><tr><td class = \"rowNumber\" style = \"font-weight: bold; text-align: right;\">35</td><td style = \"text-align: right;\">35</td><td style = \"text-align: right;\">1963.0</td><td style = \"text-align: right;\">0.877998</td><td style = \"text-align: right;\">0.0</td><td style = \"text-align: right;\">0.0</td></tr><tr><td class = \"rowNumber\" style = \"font-weight: bold; text-align: right;\">36</td><td style = \"text-align: right;\">36</td><td style = \"text-align: right;\">1963.67</td><td style = \"text-align: right;\">0.379482</td><td style = \"text-align: right;\">72.0</td><td style = \"text-align: right;\">0.0</td></tr><tr><td class = \"rowNumber\" style = \"font-weight: bold; text-align: right;\">37</td><td style = \"text-align: right;\">37</td><td style = \"text-align: right;\">709.8</td><td style = \"text-align: right;\">0.386358</td><td style = \"text-align: right;\">68.3052</td><td style = \"text-align: right;\">0.0</td></tr></tbody></table></div>"
      ],
      "text/latex": [
       "\\begin{tabular}{r|ccccc}\n",
       "\t& ID & area\\_mean & eccentricity\\_mean & col\\_centroid\\_std & row\\_centroid\\_std\\\\\n",
       "\t\\hline\n",
       "\t& Int64 & Float64 & Float64 & Float64 & Float64\\\\\n",
       "\t\\hline\n",
       "\t1 & 1 & 315.286 & 0.457807 & 50.6312 & 0.0 \\\\\n",
       "\t2 & 2 & 1248.6 & 0.0 & 0.0 & 0.0 \\\\\n",
       "\t3 & 3 & 1950.17 & 0.0576926 & 42.0389 & 0.0 \\\\\n",
       "\t4 & 4 & 2825.2 & 0.514141 & 0.0 & 0.0 \\\\\n",
       "\t5 & 5 & 1957.0 & 0.717817 & 0.0 & 0.0 \\\\\n",
       "\t6 & 6 & 704.2 & 0.0801894 & 0.0 & 0.0 \\\\\n",
       "\t7 & 7 & 1963.0 & 0.508669 & 32.5632 & 0.0 \\\\\n",
       "\t8 & 8 & 311.4 & 0.237925 & 55.771 & 0.0 \\\\\n",
       "\t9 & 9 & 2816.2 & 0.0401222 & 0.0 & 0.0 \\\\\n",
       "\t10 & 10 & 313.0 & 0.647339 & 0.0 & 0.0 \\\\\n",
       "\t11 & 11 & 1256.8 & 0.800441 & 0.0 & 0.0 \\\\\n",
       "\t12 & 12 & 1259.8 & 0.948344 & 0.0 & 0.0 \\\\\n",
       "\t13 & 13 & 2825.4 & 0.948861 & 0.0 & 0.0 \\\\\n",
       "\t14 & 14 & 1252.8 & 0.878718 & 0.0 & 0.0 \\\\\n",
       "\t15 & 15 & 1968.25 & 0.619943 & 0.0 & 0.0 \\\\\n",
       "\t16 & 16 & 1257.83 & 0.504627 & 46.0514 & 0.0 \\\\\n",
       "\t17 & 17 & 310.333 & 0.0 & 0.0 & 0.0 \\\\\n",
       "\t18 & 18 & 704.273 & 0.71815 & 32.5632 & 0.0 \\\\\n",
       "\t19 & 19 & 1258.33 & 0.499579 & 113.842 & 0.0 \\\\\n",
       "\t20 & 20 & 2820.0 & 0.362405 & 0.0 & 0.0 \\\\\n",
       "\t21 & 21 & 1253.29 & 0.690502 & 50.6312 & 0.0 \\\\\n",
       "\t22 & 22 & 1258.6 & 0.350443 & 0.0 & 0.0 \\\\\n",
       "\t23 & 23 & 708.333 & 0.803859 & 0.0 & 0.0 \\\\\n",
       "\t24 & 24 & 2827.2 & 0.878862 & 0.0 & 0.0 \\\\\n",
       "\t25 & 25 & 313.4 & 0.699131 & 0.0 & 0.0 \\\\\n",
       "\t26 & 26 & 704.0 & 0.530537 & 0.0 & 0.0 \\\\\n",
       "\t27 & 27 & 1966.6 & 0.948617 & 0.0 & 0.0 \\\\\n",
       "\t28 & 28 & 2827.77 & 0.734576 & 47.3611 & 0.0 \\\\\n",
       "\t29 & 29 & 2830.71 & 0.800412 & 0.0 & 0.0 \\\\\n",
       "\t30 & 30 & 709.6 & 0.877494 & 0.0 & 0.0 \\\\\n",
       "\t$\\dots$ & $\\dots$ & $\\dots$ & $\\dots$ & $\\dots$ & $\\dots$ \\\\\n",
       "\\end{tabular}\n"
      ],
      "text/plain": [
       "\u001b[1m37×5 DataFrame\u001b[0m\n",
       "\u001b[1m Row \u001b[0m│\u001b[1m ID    \u001b[0m\u001b[1m area_mean \u001b[0m\u001b[1m eccentricity_mean \u001b[0m\u001b[1m col_centroid_std \u001b[0m\u001b[1m row_centroid_std\u001b[0m ⋯\n",
       "     │\u001b[90m Int64 \u001b[0m\u001b[90m Float64   \u001b[0m\u001b[90m Float64           \u001b[0m\u001b[90m Float64          \u001b[0m\u001b[90m Float64         \u001b[0m ⋯\n",
       "─────┼──────────────────────────────────────────────────────────────────────────\n",
       "   1 │     1    315.286          0.457807            50.6312               0.0 ⋯\n",
       "   2 │     2   1248.6            0.0                  0.0                  0.0\n",
       "   3 │     3   1950.17           0.0576926           42.0389               0.0\n",
       "   4 │     4   2825.2            0.514141             0.0                  0.0\n",
       "   5 │     5   1957.0            0.717817             0.0                  0.0 ⋯\n",
       "   6 │     6    704.2            0.0801894            0.0                  0.0\n",
       "   7 │     7   1963.0            0.508669            32.5632               0.0\n",
       "   8 │     8    311.4            0.237925            55.771                0.0\n",
       "   9 │     9   2816.2            0.0401222            0.0                  0.0 ⋯\n",
       "  10 │    10    313.0            0.647339             0.0                  0.0\n",
       "  11 │    11   1256.8            0.800441             0.0                  0.0\n",
       "  ⋮  │   ⋮        ⋮              ⋮                 ⋮                 ⋮         ⋱\n",
       "  28 │    28   2827.77           0.734576            47.3611               0.0\n",
       "  29 │    29   2830.71           0.800412             0.0                  0.0 ⋯\n",
       "  30 │    30    709.6            0.877494             0.0                  0.0\n",
       "  31 │    31   2824.8            0.61948              0.0                  0.0\n",
       "  32 │    32   1966.8            0.80181              0.0                  0.0\n",
       "  33 │    33    707.4            0.948679             0.0                  0.0 ⋯\n",
       "  34 │    34    706.2            0.581264            68.3052               0.0\n",
       "  35 │    35   1963.0            0.877998             0.0                  0.0\n",
       "  36 │    36   1963.67           0.379482            72.0                  0.0\n",
       "  37 │    37    709.8            0.386358            68.3052               0.0 ⋯\n",
       "\u001b[36m                                                                16 rows omitted\u001b[0m"
      ]
     },
     "execution_count": 59,
     "metadata": {},
     "output_type": "execute_result"
    }
   ],
   "source": [
    "combine(tr_gdf, [\"area\", \"eccentricity\", \"col_centroid\", \"row_centroid\"] .=> (mean, mean, std, std))"
   ]
  },
  {
   "cell_type": "markdown",
   "id": "04a774b8-7058-4661-a2b9-ab991d79d66c",
   "metadata": {},
   "source": [
    "# Analysis\n",
    "Learning time for DataFrames and Plots\n",
    "* How do you list columns of a DataFrame?\n",
    "  * names(df) produces a list\n",
    "* How do you select rows matching a criterion?\n",
    "  * Multiple ways. For a conditional, you can make a boolean vector such as `isequal.(df.colname, value)`\n",
    "* How do you do groupby-apply opperations?\n",
    "Questions about tracker results structure.\n",
    "* What columns are returned?\n",
    "    * \n"
   ]
  },
  {
   "cell_type": "code",
   "execution_count": 30,
   "id": "2709a52f-dc7a-4ccf-968f-260275dbecd7",
   "metadata": {},
   "outputs": [],
   "source": [
    "data_columns = [n for n in names(track_results) if n != \"mask\" && n != \"psi\" && n != \"passtime\"];"
   ]
  },
  {
   "cell_type": "code",
   "execution_count": 31,
   "id": "cdc0c732-cbdb-4441-a268-a27ce530f03d",
   "metadata": {},
   "outputs": [
    {
     "data": {
      "text/html": [
       "<div><div style = \"float: left;\"><span>30×15 DataFrame</span></div><div style = \"float: right;\"><span style = \"font-style: italic;\">5 rows omitted</span></div><div style = \"clear: both;\"></div></div><div class = \"data-frame\" style = \"overflow-x: scroll;\"><table class = \"data-frame\" style = \"margin-bottom: 6px;\"><thead><tr class = \"header\"><th class = \"rowNumber\" style = \"font-weight: bold; text-align: right;\">Row</th><th style = \"text-align: left;\">ID</th><th style = \"text-align: left;\">area_median</th><th style = \"text-align: left;\">min_row_median</th><th style = \"text-align: left;\">min_col_median</th><th style = \"text-align: left;\">max_row_median</th><th style = \"text-align: left;\">max_col_median</th><th style = \"text-align: left;\">row_centroid_median</th><th style = \"text-align: left;\">col_centroid_median</th><th style = \"text-align: left;\">convex_area_median</th><th style = \"text-align: left;\">major_axis_length_median</th><th style = \"text-align: left;\">minor_axis_length_median</th><th style = \"text-align: left;\">orientation_median</th><th style = \"text-align: left;\">perimeter_median</th><th style = \"text-align: left;\">area_mismatch_median</th><th style = \"text-align: left;\">corr_median</th></tr><tr class = \"subheader headerLastRow\"><th class = \"rowNumber\" style = \"font-weight: bold; text-align: right;\"></th><th title = \"Int64\" style = \"text-align: left;\">Int64</th><th title = \"Float64\" style = \"text-align: left;\">Float64</th><th title = \"Float64\" style = \"text-align: left;\">Float64</th><th title = \"Float64\" style = \"text-align: left;\">Float64</th><th title = \"Float64\" style = \"text-align: left;\">Float64</th><th title = \"Float64\" style = \"text-align: left;\">Float64</th><th title = \"Float64\" style = \"text-align: left;\">Float64</th><th title = \"Float64\" style = \"text-align: left;\">Float64</th><th title = \"Float64\" style = \"text-align: left;\">Float64</th><th title = \"Float64\" style = \"text-align: left;\">Float64</th><th title = \"Float64\" style = \"text-align: left;\">Float64</th><th title = \"Float64\" style = \"text-align: left;\">Float64</th><th title = \"Float64\" style = \"text-align: left;\">Float64</th><th title = \"Missing\" style = \"text-align: left;\">Missing</th><th title = \"Missing\" style = \"text-align: left;\">Missing</th></tr></thead><tbody><tr><td class = \"rowNumber\" style = \"font-weight: bold; text-align: right;\">1</td><td style = \"text-align: right;\">1</td><td style = \"text-align: right;\">311.0</td><td style = \"text-align: right;\">106.0</td><td style = \"text-align: right;\">105.0</td><td style = \"text-align: right;\">124.0</td><td style = \"text-align: right;\">125.0</td><td style = \"text-align: right;\">115.0</td><td style = \"text-align: right;\">115.0</td><td style = \"text-align: right;\">327.0</td><td style = \"text-align: right;\">20.1116</td><td style = \"text-align: right;\">19.7085</td><td style = \"text-align: right;\">1.5708</td><td style = \"text-align: right;\">64.2843</td><td style = \"font-style: italic; text-align: right;\">missing</td><td style = \"font-style: italic; text-align: right;\">missing</td></tr><tr><td class = \"rowNumber\" style = \"font-weight: bold; text-align: right;\">2</td><td style = \"text-align: right;\">2</td><td style = \"text-align: right;\">1964.0</td><td style = \"text-align: right;\">327.0</td><td style = \"text-align: right;\">534.0</td><td style = \"text-align: right;\">359.0</td><td style = \"text-align: right;\">608.0</td><td style = \"text-align: right;\">343.0</td><td style = \"text-align: right;\">571.0</td><td style = \"text-align: right;\">2010.0</td><td style = \"text-align: right;\">75.7443</td><td style = \"text-align: right;\">33.0419</td><td style = \"text-align: right;\">-1.47534</td><td style = \"text-align: right;\">183.882</td><td style = \"font-style: italic; text-align: right;\">missing</td><td style = \"font-style: italic; text-align: right;\">missing</td></tr><tr><td class = \"rowNumber\" style = \"font-weight: bold; text-align: right;\">3</td><td style = \"text-align: right;\">3</td><td style = \"text-align: right;\">1959.0</td><td style = \"text-align: right;\">320.0</td><td style = \"text-align: right;\">317.0</td><td style = \"text-align: right;\">366.0</td><td style = \"text-align: right;\">369.0</td><td style = \"text-align: right;\">343.0</td><td style = \"text-align: right;\">343.0</td><td style = \"text-align: right;\">1996.0</td><td style = \"text-align: right;\">53.7876</td><td style = \"text-align: right;\">46.4154</td><td style = \"text-align: right;\">-1.45263</td><td style = \"text-align: right;\">163.196</td><td style = \"font-style: italic; text-align: right;\">missing</td><td style = \"font-style: italic; text-align: right;\">missing</td></tr><tr><td class = \"rowNumber\" style = \"font-weight: bold; text-align: right;\">4</td><td style = \"text-align: right;\">4</td><td style = \"text-align: right;\">703.0</td><td style = \"text-align: right;\">179.0</td><td style = \"text-align: right;\">477.0</td><td style = \"text-align: right;\">203.0</td><td style = \"text-align: right;\">513.0</td><td style = \"text-align: right;\">191.0</td><td style = \"text-align: right;\">495.0</td><td style = \"text-align: right;\">726.0</td><td style = \"text-align: right;\">37.5556</td><td style = \"text-align: right;\">23.7857</td><td style = \"text-align: right;\">-1.48098</td><td style = \"text-align: right;\">100.083</td><td style = \"font-style: italic; text-align: right;\">missing</td><td style = \"font-style: italic; text-align: right;\">missing</td></tr><tr><td class = \"rowNumber\" style = \"font-weight: bold; text-align: right;\">5</td><td style = \"text-align: right;\">5</td><td style = \"text-align: right;\">309.0</td><td style = \"text-align: right;\">106.0</td><td style = \"text-align: right;\">30.0</td><td style = \"text-align: right;\">124.0</td><td style = \"text-align: right;\">49.0</td><td style = \"text-align: right;\">115.0</td><td style = \"text-align: right;\">39.0</td><td style = \"text-align: right;\">327.0</td><td style = \"text-align: right;\">19.8454</td><td style = \"text-align: right;\">19.7107</td><td style = \"text-align: right;\">0.785398</td><td style = \"text-align: right;\">64.2843</td><td style = \"font-style: italic; text-align: right;\">missing</td><td style = \"font-style: italic; text-align: right;\">missing</td></tr><tr><td class = \"rowNumber\" style = \"font-weight: bold; text-align: right;\">6</td><td style = \"text-align: right;\">6</td><td style = \"text-align: right;\">1963.0</td><td style = \"text-align: right;\">323.0</td><td style = \"text-align: right;\">464.0</td><td style = \"text-align: right;\">363.0</td><td style = \"text-align: right;\">526.0</td><td style = \"text-align: right;\">343.0</td><td style = \"text-align: right;\">495.0</td><td style = \"text-align: right;\">2011.0</td><td style = \"text-align: right;\">62.7634</td><td style = \"text-align: right;\">39.8026</td><td style = \"text-align: right;\">-1.48189</td><td style = \"text-align: right;\">170.024</td><td style = \"font-style: italic; text-align: right;\">missing</td><td style = \"font-style: italic; text-align: right;\">missing</td></tr><tr><td class = \"rowNumber\" style = \"font-weight: bold; text-align: right;\">7</td><td style = \"text-align: right;\">7</td><td style = \"text-align: right;\">707.0</td><td style = \"text-align: right;\">176.5</td><td style = \"text-align: right;\">24.0</td><td style = \"text-align: right;\">205.5</td><td style = \"text-align: right;\">54.0</td><td style = \"text-align: right;\">191.0</td><td style = \"text-align: right;\">39.0</td><td style = \"text-align: right;\">735.0</td><td style = \"text-align: right;\">30.0506</td><td style = \"text-align: right;\">29.8804</td><td style = \"text-align: right;\">0.785398</td><td style = \"text-align: right;\">98.0833</td><td style = \"font-style: italic; text-align: right;\">missing</td><td style = \"font-style: italic; text-align: right;\">missing</td></tr><tr><td class = \"rowNumber\" style = \"font-weight: bold; text-align: right;\">8</td><td style = \"text-align: right;\">8</td><td style = \"text-align: right;\">1959.0</td><td style = \"text-align: right;\">322.0</td><td style = \"text-align: right;\">391.0</td><td style = \"text-align: right;\">364.0</td><td style = \"text-align: right;\">447.0</td><td style = \"text-align: right;\">343.0</td><td style = \"text-align: right;\">419.0</td><td style = \"text-align: right;\">1993.0</td><td style = \"text-align: right;\">57.2745</td><td style = \"text-align: right;\">43.6155</td><td style = \"text-align: right;\">-1.46061</td><td style = \"text-align: right;\">164.368</td><td style = \"font-style: italic; text-align: right;\">missing</td><td style = \"font-style: italic; text-align: right;\">missing</td></tr><tr><td class = \"rowNumber\" style = \"font-weight: bold; text-align: right;\">9</td><td style = \"text-align: right;\">9</td><td style = \"text-align: right;\">315.0</td><td style = \"text-align: right;\">106.0</td><td style = \"text-align: right;\">257.0</td><td style = \"text-align: right;\">124.0</td><td style = \"text-align: right;\">277.0</td><td style = \"text-align: right;\">115.0</td><td style = \"text-align: right;\">267.0</td><td style = \"text-align: right;\">331.0</td><td style = \"text-align: right;\">20.8979</td><td style = \"text-align: right;\">19.1846</td><td style = \"text-align: right;\">1.5708</td><td style = \"text-align: right;\">64.2843</td><td style = \"font-style: italic; text-align: right;\">missing</td><td style = \"font-style: italic; text-align: right;\">missing</td></tr><tr><td class = \"rowNumber\" style = \"font-weight: bold; text-align: right;\">10</td><td style = \"text-align: right;\">10</td><td style = \"text-align: right;\">1971.0</td><td style = \"text-align: right;\">319.0</td><td style = \"text-align: right;\">166.0</td><td style = \"text-align: right;\">367.0</td><td style = \"text-align: right;\">216.0</td><td style = \"text-align: right;\">343.0</td><td style = \"text-align: right;\">191.0</td><td style = \"text-align: right;\">2009.0</td><td style = \"text-align: right;\">51.0107</td><td style = \"text-align: right;\">49.2069</td><td style = \"text-align: right;\">-1.4803</td><td style = \"text-align: right;\">163.196</td><td style = \"font-style: italic; text-align: right;\">missing</td><td style = \"font-style: italic; text-align: right;\">missing</td></tr><tr><td class = \"rowNumber\" style = \"font-weight: bold; text-align: right;\">11</td><td style = \"text-align: right;\">11</td><td style = \"text-align: right;\">1259.0</td><td style = \"text-align: right;\">249.0</td><td style = \"text-align: right;\">322.0</td><td style = \"text-align: right;\">285.0</td><td style = \"text-align: right;\">364.0</td><td style = \"text-align: right;\">267.0</td><td style = \"text-align: right;\">343.0</td><td style = \"text-align: right;\">1285.0</td><td style = \"text-align: right;\">43.181</td><td style = \"text-align: right;\">37.0663</td><td style = \"text-align: right;\">-1.47703</td><td style = \"text-align: right;\">130.225</td><td style = \"font-style: italic; text-align: right;\">missing</td><td style = \"font-style: italic; text-align: right;\">missing</td></tr><tr><td class = \"rowNumber\" style = \"font-weight: bold; text-align: right;\">12</td><td style = \"text-align: right;\">12</td><td style = \"text-align: right;\">705.0</td><td style = \"text-align: right;\">181.0</td><td style = \"text-align: right;\">549.0</td><td style = \"text-align: right;\">201.0</td><td style = \"text-align: right;\">593.0</td><td style = \"text-align: right;\">191.0</td><td style = \"text-align: right;\">571.0</td><td style = \"text-align: right;\">734.0</td><td style = \"text-align: right;\">45.529</td><td style = \"text-align: right;\">19.7083</td><td style = \"text-align: right;\">-1.47064</td><td style = \"text-align: right;\">109.255</td><td style = \"font-style: italic; text-align: right;\">missing</td><td style = \"font-style: italic; text-align: right;\">missing</td></tr><tr><td class = \"rowNumber\" style = \"font-weight: bold; text-align: right;\">13</td><td style = \"text-align: right;\">13</td><td style = \"text-align: right;\">709.0</td><td style = \"text-align: right;\">178.0</td><td style = \"text-align: right;\">402.0</td><td style = \"text-align: right;\">204.0</td><td style = \"text-align: right;\">436.0</td><td style = \"text-align: right;\">191.0</td><td style = \"text-align: right;\">419.0</td><td style = \"text-align: right;\">734.0</td><td style = \"text-align: right;\">34.292</td><td style = \"text-align: right;\">26.324</td><td style = \"text-align: right;\">-1.46209</td><td style = \"text-align: right;\">98.9117</td><td style = \"font-style: italic; text-align: right;\">missing</td><td style = \"font-style: italic; text-align: right;\">missing</td></tr><tr><td style = \"text-align: right;\">&vellip;</td><td style = \"text-align: right;\">&vellip;</td><td style = \"text-align: right;\">&vellip;</td><td style = \"text-align: right;\">&vellip;</td><td style = \"text-align: right;\">&vellip;</td><td style = \"text-align: right;\">&vellip;</td><td style = \"text-align: right;\">&vellip;</td><td style = \"text-align: right;\">&vellip;</td><td style = \"text-align: right;\">&vellip;</td><td style = \"text-align: right;\">&vellip;</td><td style = \"text-align: right;\">&vellip;</td><td style = \"text-align: right;\">&vellip;</td><td style = \"text-align: right;\">&vellip;</td><td style = \"text-align: right;\">&vellip;</td><td style = \"text-align: right;\">&vellip;</td><td style = \"text-align: right;\">&vellip;</td></tr><tr><td class = \"rowNumber\" style = \"font-weight: bold; text-align: right;\">19</td><td style = \"text-align: right;\">19</td><td style = \"text-align: right;\">1947.0</td><td style = \"text-align: right;\">319.0</td><td style = \"text-align: right;\">15.0</td><td style = \"text-align: right;\">367.0</td><td style = \"text-align: right;\">63.0</td><td style = \"text-align: right;\">343.0</td><td style = \"text-align: right;\">39.0</td><td style = \"text-align: right;\">1981.0</td><td style = \"text-align: right;\">49.7905</td><td style = \"text-align: right;\">49.7905</td><td style = \"text-align: right;\">0.785398</td><td style = \"text-align: right;\">161.539</td><td style = \"font-style: italic; text-align: right;\">missing</td><td style = \"font-style: italic; text-align: right;\">missing</td></tr><tr><td class = \"rowNumber\" style = \"font-weight: bold; text-align: right;\">20</td><td style = \"text-align: right;\">20</td><td style = \"text-align: right;\">1255.0</td><td style = \"text-align: right;\">250.0</td><td style = \"text-align: right;\">397.0</td><td style = \"text-align: right;\">284.0</td><td style = \"text-align: right;\">441.0</td><td style = \"text-align: right;\">267.0</td><td style = \"text-align: right;\">419.0</td><td style = \"text-align: right;\">1279.0</td><td style = \"text-align: right;\">45.5876</td><td style = \"text-align: right;\">35.0777</td><td style = \"text-align: right;\">-1.46745</td><td style = \"text-align: right;\">130.225</td><td style = \"font-style: italic; text-align: right;\">missing</td><td style = \"font-style: italic; text-align: right;\">missing</td></tr><tr><td class = \"rowNumber\" style = \"font-weight: bold; text-align: right;\">21</td><td style = \"text-align: right;\">21</td><td style = \"text-align: right;\">707.0</td><td style = \"text-align: right;\">177.0</td><td style = \"text-align: right;\">176.0</td><td style = \"text-align: right;\">205.0</td><td style = \"text-align: right;\">206.0</td><td style = \"text-align: right;\">191.0</td><td style = \"text-align: right;\">191.0</td><td style = \"text-align: right;\">727.0</td><td style = \"text-align: right;\">30.6061</td><td style = \"text-align: right;\">29.4123</td><td style = \"text-align: right;\">1.5708</td><td style = \"text-align: right;\">97.2548</td><td style = \"font-style: italic; text-align: right;\">missing</td><td style = \"font-style: italic; text-align: right;\">missing</td></tr><tr><td class = \"rowNumber\" style = \"font-weight: bold; text-align: right;\">22</td><td style = \"text-align: right;\">22</td><td style = \"text-align: right;\">1255.0</td><td style = \"text-align: right;\">248.0</td><td style = \"text-align: right;\">95.0</td><td style = \"text-align: right;\">286.0</td><td style = \"text-align: right;\">135.0</td><td style = \"text-align: right;\">267.0</td><td style = \"text-align: right;\">115.0</td><td style = \"text-align: right;\">1287.0</td><td style = \"text-align: right;\">40.2035</td><td style = \"text-align: right;\">39.75</td><td style = \"text-align: right;\">1.5708</td><td style = \"text-align: right;\">130.225</td><td style = \"font-style: italic; text-align: right;\">missing</td><td style = \"font-style: italic; text-align: right;\">missing</td></tr><tr><td class = \"rowNumber\" style = \"font-weight: bold; text-align: right;\">23</td><td style = \"text-align: right;\">23</td><td style = \"text-align: right;\">315.0</td><td style = \"text-align: right;\">107.0</td><td style = \"text-align: right;\">408.0</td><td style = \"text-align: right;\">123.0</td><td style = \"text-align: right;\">430.0</td><td style = \"text-align: right;\">115.0</td><td style = \"text-align: right;\">419.0</td><td style = \"text-align: right;\">327.0</td><td style = \"text-align: right;\">23.2176</td><td style = \"text-align: right;\">17.282</td><td style = \"text-align: right;\">-1.46007</td><td style = \"text-align: right;\">64.2843</td><td style = \"font-style: italic; text-align: right;\">missing</td><td style = \"font-style: italic; text-align: right;\">missing</td></tr><tr><td class = \"rowNumber\" style = \"font-weight: bold; text-align: right;\">24</td><td style = \"text-align: right;\">24</td><td style = \"text-align: right;\">704.0</td><td style = \"text-align: right;\">178.0</td><td style = \"text-align: right;\">327.0</td><td style = \"text-align: right;\">204.0</td><td style = \"text-align: right;\">359.0</td><td style = \"text-align: right;\">191.0</td><td style = \"text-align: right;\">343.0</td><td style = \"text-align: right;\">723.0</td><td style = \"text-align: right;\">32.5249</td><td style = \"text-align: right;\">27.5269</td><td style = \"text-align: right;\">-1.45373</td><td style = \"text-align: right;\">97.2548</td><td style = \"font-style: italic; text-align: right;\">missing</td><td style = \"font-style: italic; text-align: right;\">missing</td></tr><tr><td class = \"rowNumber\" style = \"font-weight: bold; text-align: right;\">25</td><td style = \"text-align: right;\">25</td><td style = \"text-align: right;\">1963.0</td><td style = \"text-align: right;\">319.0</td><td style = \"text-align: right;\">90.0</td><td style = \"text-align: right;\">367.0</td><td style = \"text-align: right;\">140.0</td><td style = \"text-align: right;\">343.0</td><td style = \"text-align: right;\">115.0</td><td style = \"text-align: right;\">2001.0</td><td style = \"text-align: right;\">50.4344</td><td style = \"text-align: right;\">49.5574</td><td style = \"text-align: right;\">-1.47844</td><td style = \"text-align: right;\">163.196</td><td style = \"font-style: italic; text-align: right;\">missing</td><td style = \"font-style: italic; text-align: right;\">missing</td></tr><tr><td class = \"rowNumber\" style = \"font-weight: bold; text-align: right;\">26</td><td style = \"text-align: right;\">26</td><td style = \"text-align: right;\">1961.0</td><td style = \"text-align: right;\">319.0</td><td style = \"text-align: right;\">241.0</td><td style = \"text-align: right;\">367.0</td><td style = \"text-align: right;\">293.0</td><td style = \"text-align: right;\">343.0</td><td style = \"text-align: right;\">267.0</td><td style = \"text-align: right;\">2010.0</td><td style = \"text-align: right;\">51.9899</td><td style = \"text-align: right;\">48.0066</td><td style = \"text-align: right;\">-1.46561</td><td style = \"text-align: right;\">164.853</td><td style = \"font-style: italic; text-align: right;\">missing</td><td style = \"font-style: italic; text-align: right;\">missing</td></tr><tr><td class = \"rowNumber\" style = \"font-weight: bold; text-align: right;\">27</td><td style = \"text-align: right;\">27</td><td style = \"text-align: right;\">315.0</td><td style = \"text-align: right;\">106.0</td><td style = \"text-align: right;\">333.0</td><td style = \"text-align: right;\">124.0</td><td style = \"text-align: right;\">353.0</td><td style = \"text-align: right;\">115.0</td><td style = \"text-align: right;\">343.0</td><td style = \"text-align: right;\">327.0</td><td style = \"text-align: right;\">21.4314</td><td style = \"text-align: right;\">18.8151</td><td style = \"text-align: right;\">-1.22655</td><td style = \"text-align: right;\">64.2843</td><td style = \"font-style: italic; text-align: right;\">missing</td><td style = \"font-style: italic; text-align: right;\">missing</td></tr><tr><td class = \"rowNumber\" style = \"font-weight: bold; text-align: right;\">28</td><td style = \"text-align: right;\">28</td><td style = \"text-align: right;\">1252.0</td><td style = \"text-align: right;\">251.0</td><td style = \"text-align: right;\">470.0</td><td style = \"text-align: right;\">283.0</td><td style = \"text-align: right;\">520.0</td><td style = \"text-align: right;\">267.0</td><td style = \"text-align: right;\">495.0</td><td style = \"text-align: right;\">1285.0</td><td style = \"text-align: right;\">50.0687</td><td style = \"text-align: right;\">31.8168</td><td style = \"text-align: right;\">-1.47713</td><td style = \"text-align: right;\">134.811</td><td style = \"font-style: italic; text-align: right;\">missing</td><td style = \"font-style: italic; text-align: right;\">missing</td></tr><tr><td class = \"rowNumber\" style = \"font-weight: bold; text-align: right;\">29</td><td style = \"text-align: right;\">29</td><td style = \"text-align: right;\">315.0</td><td style = \"text-align: right;\">106.0</td><td style = \"text-align: right;\">181.0</td><td style = \"text-align: right;\">124.0</td><td style = \"text-align: right;\">201.0</td><td style = \"text-align: right;\">115.0</td><td style = \"text-align: right;\">191.0</td><td style = \"text-align: right;\">327.0</td><td style = \"text-align: right;\">20.4855</td><td style = \"text-align: right;\">19.5881</td><td style = \"text-align: right;\">1.5708</td><td style = \"text-align: right;\">64.2843</td><td style = \"font-style: italic; text-align: right;\">missing</td><td style = \"font-style: italic; text-align: right;\">missing</td></tr><tr><td class = \"rowNumber\" style = \"font-weight: bold; text-align: right;\">30</td><td style = \"text-align: right;\">30</td><td style = \"text-align: right;\">707.0</td><td style = \"text-align: right;\">177.0</td><td style = \"text-align: right;\">100.0</td><td style = \"text-align: right;\">205.0</td><td style = \"text-align: right;\">130.0</td><td style = \"text-align: right;\">191.0</td><td style = \"text-align: right;\">115.0</td><td style = \"text-align: right;\">731.0</td><td style = \"text-align: right;\">30.3089</td><td style = \"text-align: right;\">29.7063</td><td style = \"text-align: right;\">1.5708</td><td style = \"text-align: right;\">97.2548</td><td style = \"font-style: italic; text-align: right;\">missing</td><td style = \"font-style: italic; text-align: right;\">missing</td></tr></tbody></table></div>"
      ],
      "text/latex": [
       "\\begin{tabular}{r|ccccccc}\n",
       "\t& ID & area\\_median & min\\_row\\_median & min\\_col\\_median & max\\_row\\_median & max\\_col\\_median & \\\\\n",
       "\t\\hline\n",
       "\t& Int64 & Float64 & Float64 & Float64 & Float64 & Float64 & \\\\\n",
       "\t\\hline\n",
       "\t1 & 1 & 311.0 & 106.0 & 105.0 & 124.0 & 125.0 & $\\dots$ \\\\\n",
       "\t2 & 2 & 1964.0 & 327.0 & 534.0 & 359.0 & 608.0 & $\\dots$ \\\\\n",
       "\t3 & 3 & 1959.0 & 320.0 & 317.0 & 366.0 & 369.0 & $\\dots$ \\\\\n",
       "\t4 & 4 & 703.0 & 179.0 & 477.0 & 203.0 & 513.0 & $\\dots$ \\\\\n",
       "\t5 & 5 & 309.0 & 106.0 & 30.0 & 124.0 & 49.0 & $\\dots$ \\\\\n",
       "\t6 & 6 & 1963.0 & 323.0 & 464.0 & 363.0 & 526.0 & $\\dots$ \\\\\n",
       "\t7 & 7 & 707.0 & 176.5 & 24.0 & 205.5 & 54.0 & $\\dots$ \\\\\n",
       "\t8 & 8 & 1959.0 & 322.0 & 391.0 & 364.0 & 447.0 & $\\dots$ \\\\\n",
       "\t9 & 9 & 315.0 & 106.0 & 257.0 & 124.0 & 277.0 & $\\dots$ \\\\\n",
       "\t10 & 10 & 1971.0 & 319.0 & 166.0 & 367.0 & 216.0 & $\\dots$ \\\\\n",
       "\t11 & 11 & 1259.0 & 249.0 & 322.0 & 285.0 & 364.0 & $\\dots$ \\\\\n",
       "\t12 & 12 & 705.0 & 181.0 & 549.0 & 201.0 & 593.0 & $\\dots$ \\\\\n",
       "\t13 & 13 & 709.0 & 178.0 & 402.0 & 204.0 & 436.0 & $\\dots$ \\\\\n",
       "\t14 & 14 & 1265.0 & 248.0 & 171.0 & 286.0 & 211.0 & $\\dots$ \\\\\n",
       "\t15 & 15 & 1259.0 & 254.0 & 541.0 & 280.0 & 601.0 & $\\dots$ \\\\\n",
       "\t16 & 16 & 1247.0 & 247.5 & 19.5 & 286.5 & 58.5 & $\\dots$ \\\\\n",
       "\t17 & 17 & 1257.0 & 248.0 & 247.0 & 286.0 & 287.0 & $\\dots$ \\\\\n",
       "\t18 & 18 & 710.0 & 177.0 & 252.0 & 205.0 & 282.0 & $\\dots$ \\\\\n",
       "\t19 & 19 & 1947.0 & 319.0 & 15.0 & 367.0 & 63.0 & $\\dots$ \\\\\n",
       "\t20 & 20 & 1255.0 & 250.0 & 397.0 & 284.0 & 441.0 & $\\dots$ \\\\\n",
       "\t21 & 21 & 707.0 & 177.0 & 176.0 & 205.0 & 206.0 & $\\dots$ \\\\\n",
       "\t22 & 22 & 1255.0 & 248.0 & 95.0 & 286.0 & 135.0 & $\\dots$ \\\\\n",
       "\t23 & 23 & 315.0 & 107.0 & 408.0 & 123.0 & 430.0 & $\\dots$ \\\\\n",
       "\t24 & 24 & 704.0 & 178.0 & 327.0 & 204.0 & 359.0 & $\\dots$ \\\\\n",
       "\t25 & 25 & 1963.0 & 319.0 & 90.0 & 367.0 & 140.0 & $\\dots$ \\\\\n",
       "\t26 & 26 & 1961.0 & 319.0 & 241.0 & 367.0 & 293.0 & $\\dots$ \\\\\n",
       "\t27 & 27 & 315.0 & 106.0 & 333.0 & 124.0 & 353.0 & $\\dots$ \\\\\n",
       "\t28 & 28 & 1252.0 & 251.0 & 470.0 & 283.0 & 520.0 & $\\dots$ \\\\\n",
       "\t29 & 29 & 315.0 & 106.0 & 181.0 & 124.0 & 201.0 & $\\dots$ \\\\\n",
       "\t30 & 30 & 707.0 & 177.0 & 100.0 & 205.0 & 130.0 & $\\dots$ \\\\\n",
       "\\end{tabular}\n"
      ],
      "text/plain": [
       "\u001b[1m30×15 DataFrame\u001b[0m\n",
       "\u001b[1m Row \u001b[0m│\u001b[1m ID    \u001b[0m\u001b[1m area_median \u001b[0m\u001b[1m min_row_median \u001b[0m\u001b[1m min_col_median \u001b[0m\u001b[1m max_row_median \u001b[0m\u001b[1m max\u001b[0m ⋯\n",
       "     │\u001b[90m Int64 \u001b[0m\u001b[90m Float64     \u001b[0m\u001b[90m Float64        \u001b[0m\u001b[90m Float64        \u001b[0m\u001b[90m Float64        \u001b[0m\u001b[90m Flo\u001b[0m ⋯\n",
       "─────┼──────────────────────────────────────────────────────────────────────────\n",
       "   1 │     1        311.0           106.0           105.0           124.0      ⋯\n",
       "   2 │     2       1964.0           327.0           534.0           359.0\n",
       "   3 │     3       1959.0           320.0           317.0           366.0\n",
       "   4 │     4        703.0           179.0           477.0           203.0\n",
       "   5 │     5        309.0           106.0            30.0           124.0      ⋯\n",
       "   6 │     6       1963.0           323.0           464.0           363.0\n",
       "   7 │     7        707.0           176.5            24.0           205.5\n",
       "   8 │     8       1959.0           322.0           391.0           364.0\n",
       "   9 │     9        315.0           106.0           257.0           124.0      ⋯\n",
       "  10 │    10       1971.0           319.0           166.0           367.0\n",
       "  11 │    11       1259.0           249.0           322.0           285.0\n",
       "  ⋮  │   ⋮         ⋮             ⋮               ⋮               ⋮             ⋱\n",
       "  21 │    21        707.0           177.0           176.0           205.0\n",
       "  22 │    22       1255.0           248.0            95.0           286.0      ⋯\n",
       "  23 │    23        315.0           107.0           408.0           123.0\n",
       "  24 │    24        704.0           178.0           327.0           204.0\n",
       "  25 │    25       1963.0           319.0            90.0           367.0\n",
       "  26 │    26       1961.0           319.0           241.0           367.0      ⋯\n",
       "  27 │    27        315.0           106.0           333.0           124.0\n",
       "  28 │    28       1252.0           251.0           470.0           283.0\n",
       "  29 │    29        315.0           106.0           181.0           124.0\n",
       "  30 │    30        707.0           177.0           100.0           205.0      ⋯\n",
       "\u001b[36m                                                   10 columns and 9 rows omitted\u001b[0m"
      ]
     },
     "execution_count": 31,
     "metadata": {},
     "output_type": "execute_result"
    }
   ],
   "source": [
    "tr_gdf = groupby(track_results[!, data_columns], \"ID\");\n",
    "\n",
    "combine(tr_gdf, valuecols(tr_gdf) .=> median)"
   ]
  },
  {
   "cell_type": "markdown",
   "id": "b218d3dc-2a34-4300-aabf-1c590c51e98b",
   "metadata": {},
   "source": [
    "Write the results to file:"
   ]
  },
  {
   "cell_type": "code",
   "execution_count": 35,
   "id": "6609fd8d-716e-4ed2-afa8-0a43c05bade4",
   "metadata": {},
   "outputs": [
    {
     "data": {
      "text/plain": [
       "\"../data/ellipse_test_tracked.csv\""
      ]
     },
     "execution_count": 35,
     "metadata": {},
     "output_type": "execute_result"
    }
   ],
   "source": [
    "CSV.write(\"../data/ellipse_test_tracked.csv\", track_results[!, data_columns]);\n"
   ]
  },
  {
   "cell_type": "code",
   "execution_count": null,
   "id": "dbd7068e-53c9-445a-a6f6-0fad3e0feb16",
   "metadata": {},
   "outputs": [],
   "source": []
  }
 ],
 "metadata": {
  "kernelspec": {
   "display_name": "Julia 1.11.3",
   "language": "julia",
   "name": "julia-1.11"
  },
  "language_info": {
   "file_extension": ".jl",
   "mimetype": "application/julia",
   "name": "julia",
   "version": "1.11.3"
  }
 },
 "nbformat": 4,
 "nbformat_minor": 5
}
