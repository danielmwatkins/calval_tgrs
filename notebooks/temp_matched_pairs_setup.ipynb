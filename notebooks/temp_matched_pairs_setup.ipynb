{
 "cells": [
  {
   "cell_type": "markdown",
   "id": "56adc444-40f3-4554-be04-da5d1cd6f881",
   "metadata": {},
   "source": [
    "Currently the creation of the matched-pairs analysis file is done in python. The goal is a julia script that parses the matched pairs data, and creates tables to use for the test comparisons. \n",
    "\n",
    "Output files\n",
    "- only files with at least one matched pair\n",
    "- format: <case_number>-shape-matched-pairs.csv\n",
    "- columns: floe_id, area, convex_area, major_axis_length, minor_axis_length, perimeter, adr_area, adr_convex_area,\n",
    "           adr_major_axis_length, adr_minor_axis_length, rotation_estimated, minimum_shape_difference, psi_s_correlation, ...\n",
    "\n",
    "potentially include minimum_sd at a list of rotations, for visualization. e.g., use +/- 45 degrees in steps of 1 degree. Alternatively, "
   ]
  },
  {
   "cell_type": "code",
   "execution_count": 1,
   "id": "3dc2e903-e863-4683-8e27-59b42af50f72",
   "metadata": {},
   "outputs": [
    {
     "name": "stderr",
     "output_type": "stream",
     "text": [
      "\u001b[32m\u001b[1m  Activating\u001b[22m\u001b[39m project at `~/Documents/research/manuscripts/cal-val_ice_floe_tracker/calval_tgrs_temp/calval_tgrs/scripts/cal-val`\n",
      "\u001b[36m\u001b[1m[ \u001b[22m\u001b[39m\u001b[36m\u001b[1mInfo: \u001b[22m\u001b[39mPrecompiling IceFloeTracker [04643c7a-9ac6-48c5-822f-2704f9e70bd3] (cache misses: wrong dep version loaded (4), wrong source (2), mismatched flags (10))\n"
     ]
    },
    {
     "data": {
      "text/plain": [
       "mismatch_temp (generic function with 1 method)"
      ]
     },
     "execution_count": 1,
     "metadata": {},
     "output_type": "execute_result"
    }
   ],
   "source": [
    "\"\"\"Access the matched pairs from the validation dataset and compute similarity metrics\"\"\"\n",
    "\n",
    "using Pkg\n",
    "Pkg.activate(\"../scripts/cal-val\")\n",
    "\n",
    "using IceFloeTracker\n",
    "using IceFloeTracker: load, regionprops_table, label_components, imshow, absdiffmeanratio, mismatch, addfloemasks!\n",
    "using DataFrames, CSV, Interpolations, Images\n",
    "\n",
    "ice_floe_database_loc =  \"/Users/dwatkin2/Documents/research/manuscripts/cal-val_ice_floe_tracker/ice_floe_validation_dataset/\"\n",
    "\n",
    "matched_pairs_tables_loc = joinpath(ice_floe_database_loc, \"data/validation_dataset/property_tables/matched\")\n",
    "test_images_loc = joinpath(ice_floe_database_loc, \"data/validation_dataset/labeled_floes/\")\n",
    "\n",
    "# convenience functions\n",
    "greaterthan0(x) = x .> 0 # convert labeled image to boolean\n",
    "greaterthan05(x) = x .> 0.5 # used for the image resize step\n",
    "imrotate_bin(x, r) = greaterthan05(collect(imrotate(x, deg2rad(r), method=BSpline(Constant()))))\n",
    "\n",
    "# expose the non-normalized mismatch from the IFT\n",
    "function mismatch_temp(fixed::AbstractArray, moving::AbstractArray, test_angles::AbstractArray)\n",
    "    shape_differences = IceFloeTracker.shape_difference_rotation(\n",
    "        fixed, moving, test_angles; imrotate_function=IceFloeTracker.imrotate_bin_clockwise_degrees\n",
    "    )\n",
    "    best_match = argmin((x) -> x.shape_difference, shape_differences)\n",
    "    rotation_degrees = best_match.angle\n",
    "    normalized_area = (sum(fixed) + sum(moving)) / 2\n",
    "    normalized_mismatch = best_match.shape_difference / normalized_area\n",
    "    return (mm=normalized_mismatch, rot=rotation_degrees, sd=best_match.shape_difference)\n",
    "end"
   ]
  },
  {
   "cell_type": "code",
   "execution_count": 2,
   "id": "dea13734-801e-4ce8-8dbb-e25b6bad5516",
   "metadata": {},
   "outputs": [],
   "source": [
    "\n",
    "files = [f for f in readdir(matched_pairs_tables_loc) if occursin(\".csv\", f)];"
   ]
  },
  {
   "cell_type": "code",
   "execution_count": 8,
   "id": "6fc21bd5-8a95-40b4-bf01-8029f176e6ad",
   "metadata": {},
   "outputs": [],
   "source": [
    "file = files[2]\n",
    "case = split(file, \"-\")\n",
    "\n",
    "df_pairs = DataFrame(CSV.File(joinpath(matched_pairs_tables_loc, file)))\n",
    "\n",
    "# First check for whether there is a match at all\n",
    "if size(df_pairs)[1] == 1 && !ismissing(df_pairs[1, :aqua_label])\n",
    "    \n",
    "    # Load the labeled image and convert to an integer-valued Matrix\n",
    "    lb_aqua = channelview(Int64.(\n",
    "                        load(\n",
    "                            joinpath(test_images_loc, replace(file, \"matched-floe_properties.csv\" => \"aqua-labeled_floes.tiff\")))\n",
    "                            )\n",
    "                        )\n",
    "    lb_terra = channelview(Int64.(\n",
    "                        load(\n",
    "                            joinpath(test_images_loc, replace(file, \"matched-floe_properties.csv\" => \"terra-labeled_floes.tiff\")))\n",
    "                            )\n",
    "                        )\n",
    "\n",
    "    # Retrieve region props and add floe masks\n",
    "    proplist = [\"bbox\", \"centroid\", \"label\", \"area\", \"convex_area\",\n",
    "        \"perimeter\", \"major_axis_length\", \"minor_axis_length\"]\n",
    "    \n",
    "    props_aqua = regionprops_table(lb_aqua);\n",
    "    props_terra = regionprops_table(lb_terra);\n",
    "    addfloemasks!(props_aqua, greaterthan0.(lb_aqua));\n",
    "    addfloemasks!(props_terra, greaterthan0.(lb_terra));\n",
    "\n",
    "    # Bug in addfloemasks means we have to merge label back in\n",
    "    props_labels_aqua = regionprops_table(lb_aqua, properties=[\"area\", \"label\", \"bbox\"])\n",
    "    props_labels_terra = regionprops_table(lb_terra, properties=[\"area\", \"label\", \"bbox\"])\n",
    "    global props_aqua = innerjoin(props_aqua, props_labels_aqua, on=[:area, :min_row, :max_row, :min_col, :max_col])\n",
    "    props_terra = innerjoin(props_terra, props_labels_terra, on=[:area, :min_row, :max_row, :min_col, :max_col])\n",
    "    \n",
    "    # Initialize dataframe for the shape comparison\n",
    "    global df = DataFrame(\n",
    "               aqua_label=Int64[],\n",
    "               terra_label=Int64[],               \n",
    "               aqua_area=Float64[],\n",
    "               aqua_convex_area=Float64[],\n",
    "               aqua_major_axis_length=Float64[],\n",
    "               aqua_minor_axis_length=Float64[],\n",
    "               aqua_perimeter=Float64[],\n",
    "               terra_area=Float64[],\n",
    "               terra_convex_area=Float64[],\n",
    "               terra_major_axis_length=Float64[],\n",
    "               terra_minor_axis_length=Float64[],\n",
    "               terra_perimeter=Float64[],\n",
    "               adr_area=Float64[],\n",
    "               adr_convex_area=Float64[],\n",
    "               adr_major_axis_length=Float64[],\n",
    "               adr_minor_axis_length=Float64[],\n",
    "               rotation_estimated=Float64[],\n",
    "               minimum_shape_difference=Float64[],\n",
    "               psi_s_correlation=Float64[],\n",
    "               )\n",
    "\n",
    "    for matches in eachrow(df_pairs)\n",
    "        global row_aqua = props_aqua[props_aqua.label .== matches.aqua_label, :]\n",
    "        row_terra = props_terra[props_terra.label .== matches.terra_label, :]\n",
    "\n",
    "        normalized_mismatch, rotation_degrees, shape_difference = mismatch_temp(row_aqua[1, :mask], row_terra[1, :mask], -45:1:45)\n",
    "        try\n",
    "            _psi = IceFloeTracker.buildψs.([row_aqua[1, :mask], row_terra[1, :mask]])\n",
    "            global psi_s_correlation = round(IceFloeTracker.corr(_psi...), digits=3)\n",
    "        \n",
    "        catch e\n",
    "            @warn \"Build Psi-S failed: $e\"\n",
    "            global psi_s_correlation = NaN\n",
    "        end\n",
    "        \n",
    "        push!(df, (matches.aqua_label,\n",
    "                   matches.terra_label,\n",
    "                   row_aqua[1, :area],\n",
    "                   row_aqua[1, :convex_area],\n",
    "                   row_aqua[1, :major_axis_length],\n",
    "                   row_aqua[1, :minor_axis_length],\n",
    "                   row_aqua[1, :perimeter],\n",
    "                   row_terra[1, :area],\n",
    "                   row_terra[1, :convex_area],\n",
    "                   row_terra[1, :major_axis_length],\n",
    "                   row_terra[1, :minor_axis_length],\n",
    "                   row_terra[1, :perimeter],                \n",
    "                   0.5*absdiffmeanratio(row_aqua[1, :area], row_terra[1, :area]),\n",
    "                   0.5*absdiffmeanratio(row_aqua[1, :convex_area], row_terra[1, :convex_area]),\n",
    "                   0.5*absdiffmeanratio(row_aqua[1, :major_axis_length], row_terra[1, :major_axis_length]),\n",
    "                   0.5*absdiffmeanratio(row_aqua[1, :minor_axis_length], row_terra[1, :minor_axis_length]),\n",
    "                   rotation_degrees,\n",
    "                   shape_difference,\n",
    "                   psi_s_correlation\n",
    "                   )) \n",
    "    end\n",
    "    # TBD: Initialize dataframe to store the rotation vs SD vectors \n",
    "end\n",
    "nothing"
   ]
  },
  {
   "cell_type": "code",
   "execution_count": 120,
   "id": "909c4552-aa09-4936-b2d0-2eca3358ac45",
   "metadata": {},
   "outputs": [
    {
     "data": {
      "text/html": [
       "<div><div style = \"float: left;\"><span>1×19 DataFrame</span></div><div style = \"clear: both;\"></div></div><div class = \"data-frame\" style = \"overflow-x: scroll;\"><table class = \"data-frame\" style = \"margin-bottom: 6px;\"><thead><tr class = \"header\"><th class = \"rowNumber\" style = \"font-weight: bold; text-align: right;\">Row</th><th style = \"text-align: left;\">aqua_label</th><th style = \"text-align: left;\">terra_label</th><th style = \"text-align: left;\">aqua_area</th><th style = \"text-align: left;\">aqua_convex_area</th><th style = \"text-align: left;\">aqua_major_axis_length</th><th style = \"text-align: left;\">aqua_minor_axis_length</th><th style = \"text-align: left;\">aqua_perimeter</th><th style = \"text-align: left;\">terra_area</th><th style = \"text-align: left;\">terra_convex_area</th><th style = \"text-align: left;\">terra_major_axis_length</th><th style = \"text-align: left;\">terra_minor_axis_length</th><th style = \"text-align: left;\">terra_perimeter</th><th style = \"text-align: left;\">adr_area</th><th style = \"text-align: left;\">adr_convex_area</th><th style = \"text-align: left;\">adr_major_axis_length</th><th style = \"text-align: left;\">adr_minor_axis_length</th><th style = \"text-align: left;\">rotation_estimated</th><th style = \"text-align: left;\">minimum_shape_difference</th><th style = \"text-align: left;\">psi_s_correlation</th></tr><tr class = \"subheader headerLastRow\"><th class = \"rowNumber\" style = \"font-weight: bold; text-align: right;\"></th><th title = \"Int64\" style = \"text-align: left;\">Int64</th><th title = \"Int64\" style = \"text-align: left;\">Int64</th><th title = \"Float64\" style = \"text-align: left;\">Float64</th><th title = \"Float64\" style = \"text-align: left;\">Float64</th><th title = \"Float64\" style = \"text-align: left;\">Float64</th><th title = \"Float64\" style = \"text-align: left;\">Float64</th><th title = \"Float64\" style = \"text-align: left;\">Float64</th><th title = \"Float64\" style = \"text-align: left;\">Float64</th><th title = \"Float64\" style = \"text-align: left;\">Float64</th><th title = \"Float64\" style = \"text-align: left;\">Float64</th><th title = \"Float64\" style = \"text-align: left;\">Float64</th><th title = \"Float64\" style = \"text-align: left;\">Float64</th><th title = \"Float64\" style = \"text-align: left;\">Float64</th><th title = \"Float64\" style = \"text-align: left;\">Float64</th><th title = \"Float64\" style = \"text-align: left;\">Float64</th><th title = \"Float64\" style = \"text-align: left;\">Float64</th><th title = \"Float64\" style = \"text-align: left;\">Float64</th><th title = \"Float64\" style = \"text-align: left;\">Float64</th><th title = \"Float64\" style = \"text-align: left;\">Float64</th></tr></thead><tbody><tr><td class = \"rowNumber\" style = \"font-weight: bold; text-align: right;\">1</td><td style = \"text-align: right;\">1</td><td style = \"text-align: right;\">1</td><td style = \"text-align: right;\">83.0</td><td style = \"text-align: right;\">88.0</td><td style = \"text-align: right;\">12.11</td><td style = \"text-align: right;\">8.74504</td><td style = \"text-align: right;\">32.1421</td><td style = \"text-align: right;\">66.0</td><td style = \"text-align: right;\">73.0</td><td style = \"text-align: right;\">9.66538</td><td style = \"text-align: right;\">9.04707</td><td style = \"text-align: right;\">29.3137</td><td style = \"text-align: right;\">0.114094</td><td style = \"text-align: right;\">0.0931677</td><td style = \"text-align: right;\">0.112263</td><td style = \"text-align: right;\">0.0169754</td><td style = \"text-align: right;\">45.0</td><td style = \"text-align: right;\">23.0</td><td style = \"text-align: right;\">0.984</td></tr></tbody></table></div>"
      ],
      "text/latex": [
       "\\begin{tabular}{r|ccccccc}\n",
       "\t& aqua\\_label & terra\\_label & aqua\\_area & aqua\\_convex\\_area & aqua\\_major\\_axis\\_length & aqua\\_minor\\_axis\\_length & \\\\\n",
       "\t\\hline\n",
       "\t& Int64 & Int64 & Float64 & Float64 & Float64 & Float64 & \\\\\n",
       "\t\\hline\n",
       "\t1 & 1 & 1 & 83.0 & 88.0 & 12.11 & 8.74504 & $\\dots$ \\\\\n",
       "\\end{tabular}\n"
      ],
      "text/plain": [
       "\u001b[1m1×19 DataFrame\u001b[0m\n",
       "\u001b[1m Row \u001b[0m│\u001b[1m aqua_label \u001b[0m\u001b[1m terra_label \u001b[0m\u001b[1m aqua_area \u001b[0m\u001b[1m aqua_convex_area \u001b[0m\u001b[1m aqua_major_axis_l\u001b[0m ⋯\n",
       "     │\u001b[90m Int64      \u001b[0m\u001b[90m Int64       \u001b[0m\u001b[90m Float64   \u001b[0m\u001b[90m Float64          \u001b[0m\u001b[90m Float64          \u001b[0m ⋯\n",
       "─────┼──────────────────────────────────────────────────────────────────────────\n",
       "   1 │          1            1       83.0              88.0                    ⋯\n",
       "\u001b[36m                                                              15 columns omitted\u001b[0m"
      ]
     },
     "execution_count": 120,
     "metadata": {},
     "output_type": "execute_result"
    }
   ],
   "source": [
    "df"
   ]
  },
  {
   "cell_type": "code",
   "execution_count": 10,
   "id": "9d0e421a-4e85-4874-854f-adcb2deb7a48",
   "metadata": {},
   "outputs": [],
   "source": [
    "addfloemasks!(props_aqua[:, [x for x in names(props_aqua) if x != \"label\"]], lb_aqua .> 0)"
   ]
  },
  {
   "cell_type": "code",
   "execution_count": 13,
   "id": "c9c43d27-b802-4595-b084-2f2fce21589b",
   "metadata": {},
   "outputs": [
    {
     "data": {
      "text/html": [
       "<div><div style = \"float: left;\"><span>3×4 DataFrame</span></div><div style = \"clear: both;\"></div></div><div class = \"data-frame\" style = \"overflow-x: scroll;\"><table class = \"data-frame\" style = \"margin-bottom: 6px;\"><thead><tr class = \"header\"><th class = \"rowNumber\" style = \"font-weight: bold; text-align: right;\">Row</th><th style = \"text-align: left;\">area</th><th style = \"text-align: left;\">label</th><th style = \"text-align: left;\">perimeter</th><th style = \"text-align: left;\">perimeter_crofton</th></tr><tr class = \"subheader headerLastRow\"><th class = \"rowNumber\" style = \"font-weight: bold; text-align: right;\"></th><th title = \"Float64\" style = \"text-align: left;\">Float64</th><th title = \"Int64\" style = \"text-align: left;\">Int64</th><th title = \"Float64\" style = \"text-align: left;\">Float64</th><th title = \"Float64\" style = \"text-align: left;\">Float64</th></tr></thead><tbody><tr><td class = \"rowNumber\" style = \"font-weight: bold; text-align: right;\">1</td><td style = \"text-align: right;\">66.0</td><td style = \"text-align: right;\">1</td><td style = \"text-align: right;\">29.3137</td><td style = \"text-align: right;\">30.4727</td></tr><tr><td class = \"rowNumber\" style = \"font-weight: bold; text-align: right;\">2</td><td style = \"text-align: right;\">47.0</td><td style = \"text-align: right;\">2</td><td style = \"text-align: right;\">23.8995</td><td style = \"text-align: right;\">25.3397</td></tr><tr><td class = \"rowNumber\" style = \"font-weight: bold; text-align: right;\">3</td><td style = \"text-align: right;\">32.0</td><td style = \"text-align: right;\">3</td><td style = \"text-align: right;\">19.6569</td><td style = \"text-align: right;\">21.3174</td></tr></tbody></table></div>"
      ],
      "text/latex": [
       "\\begin{tabular}{r|cccc}\n",
       "\t& area & label & perimeter & perimeter\\_crofton\\\\\n",
       "\t\\hline\n",
       "\t& Float64 & Int64 & Float64 & Float64\\\\\n",
       "\t\\hline\n",
       "\t1 & 66.0 & 1 & 29.3137 & 30.4727 \\\\\n",
       "\t2 & 47.0 & 2 & 23.8995 & 25.3397 \\\\\n",
       "\t3 & 32.0 & 3 & 19.6569 & 21.3174 \\\\\n",
       "\\end{tabular}\n"
      ],
      "text/plain": [
       "\u001b[1m3×4 DataFrame\u001b[0m\n",
       "\u001b[1m Row \u001b[0m│\u001b[1m area    \u001b[0m\u001b[1m label \u001b[0m\u001b[1m perimeter \u001b[0m\u001b[1m perimeter_crofton \u001b[0m\n",
       "     │\u001b[90m Float64 \u001b[0m\u001b[90m Int64 \u001b[0m\u001b[90m Float64   \u001b[0m\u001b[90m Float64           \u001b[0m\n",
       "─────┼──────────────────────────────────────────────\n",
       "   1 │    66.0      1    29.3137            30.4727\n",
       "   2 │    47.0      2    23.8995            25.3397\n",
       "   3 │    32.0      3    19.6569            21.3174"
      ]
     },
     "execution_count": 13,
     "metadata": {},
     "output_type": "execute_result"
    }
   ],
   "source": [
    "props_labels_aqua = regionprops_table(lb_aqua, properties=[\"area\", \"label\"])\n",
    "props_labels_terra = regionprops_table(lb_terra, properties=[\"area\", \"label\", \"perimeter\", \"perimeter_crofton\" ])"
   ]
  },
  {
   "cell_type": "code",
   "execution_count": 111,
   "id": "cb8b23c5-8017-4512-9174-b90dd6a58ed9",
   "metadata": {},
   "outputs": [
    {
     "ename": "LoadError",
     "evalue": "UndefVarError: `innerjoin!` not defined in `Main`\nSuggestion: check for spelling errors or missing imports.",
     "output_type": "error",
     "traceback": [
      "UndefVarError: `innerjoin!` not defined in `Main`\nSuggestion: check for spelling errors or missing imports.",
      "",
      "Stacktrace:",
      " [1] top-level scope",
      "   @ In[111]:1"
     ]
    }
   ],
   "source": [
    "innerjoin(props_aqua, props_labels_aqua, on=[:area, :min_row, :max_row, :min_col, :max_col])"
   ]
  },
  {
   "cell_type": "code",
   "execution_count": null,
   "id": "4d890568-378c-456e-91f4-5bf84aaf10ca",
   "metadata": {},
   "outputs": [],
   "source": []
  },
  {
   "cell_type": "code",
   "execution_count": null,
   "id": "c021eb5b-cca3-4726-8035-0b21609c4e41",
   "metadata": {},
   "outputs": [],
   "source": []
  }
 ],
 "metadata": {
  "kernelspec": {
   "display_name": "Julia 1.11.6",
   "language": "julia",
   "name": "julia-1.11"
  },
  "language_info": {
   "file_extension": ".jl",
   "mimetype": "application/julia",
   "name": "julia",
   "version": "1.11.6"
  }
 },
 "nbformat": 4,
 "nbformat_minor": 5
}
